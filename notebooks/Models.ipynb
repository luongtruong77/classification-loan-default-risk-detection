{
 "cells": [
  {
   "cell_type": "code",
   "execution_count": 22,
   "id": "union-triangle",
   "metadata": {
    "ExecuteTime": {
     "end_time": "2021-05-10T22:42:25.678739Z",
     "start_time": "2021-05-10T22:42:25.646719Z"
    }
   },
   "outputs": [
    {
     "name": "stdout",
     "output_type": "stream",
     "text": [
      "Populating the interactive namespace from numpy and matplotlib\n"
     ]
    }
   ],
   "source": [
    "import numpy as np\n",
    "import os\n",
    "import pandas as pd\n",
    "np.random.seed(42)\n",
    "\n",
    "%matplotlib inline\n",
    "import matplotlib as mpl\n",
    "import matplotlib.pyplot as plt\n",
    "\n",
    "%pylab inline\n",
    "%config InlineBackend.figure_formats = ['retina']\n",
    "\n",
    "from collections import OrderedDict\n",
    "\n",
    "import seaborn as sns\n",
    "sns.set()\n",
    "\n",
    "from sklearn.linear_model import LogisticRegression\n",
    "from sklearn.metrics import f1_score, roc_auc_score, roc_curve, precision_score, recall_score\n",
    "\n",
    "import warnings\n",
    "warnings.simplefilter(action='ignore')\n",
    "\n",
    "import imblearn.over_sampling\n",
    "\n",
    "from sklearn.pipeline import Pipeline\n",
    "from sklearn.preprocessing import MinMaxScaler, Binarizer, OneHotEncoder, StandardScaler, OrdinalEncoder, PolynomialFeatures\n",
    "from sklearn.impute import SimpleImputer"
   ]
  },
  {
   "cell_type": "markdown",
   "id": "downtown-assurance",
   "metadata": {},
   "source": [
    "### Logistic Regression"
   ]
  },
  {
   "cell_type": "code",
   "execution_count": 15,
   "id": "usual-vienna",
   "metadata": {
    "ExecuteTime": {
     "end_time": "2021-05-10T22:32:21.882990Z",
     "start_time": "2021-05-10T22:32:18.271785Z"
    }
   },
   "outputs": [
    {
     "name": "stdout",
     "output_type": "stream",
     "text": [
      "X_train shape:  (246008, 250)\n",
      "X_test shape:  (61503, 250)\n",
      "y_train shape:  (246008,)\n",
      "y_test shape:  (61503,)\n"
     ]
    }
   ],
   "source": [
    "X_train = pd.read_csv('X_train_domain.csv', index_col=0)\n",
    "print('X_train shape: ', X_train.shape)\n",
    "X_test = pd.read_csv('X_test_domain.csv', index_col=0)\n",
    "print('X_test shape: ', X_test.shape)\n",
    "y_train = pd.read_csv('y_train.csv', index_col=0)\n",
    "y_train = y_train.squeeze()\n",
    "print('y_train shape: ', y_train.shape)\n",
    "y_test = pd.read_csv('y_test.csv', index_col=0)\n",
    "y_test = y_test.squeeze()\n",
    "print('y_test shape: ', y_test.shape)"
   ]
  },
  {
   "cell_type": "markdown",
   "id": "dramatic-retrieval",
   "metadata": {},
   "source": [
    "#### Impute missing values and scale the data"
   ]
  },
  {
   "cell_type": "code",
   "execution_count": 23,
   "id": "received-vessel",
   "metadata": {
    "ExecuteTime": {
     "end_time": "2021-05-10T22:42:42.456042Z",
     "start_time": "2021-05-10T22:42:29.213747Z"
    }
   },
   "outputs": [
    {
     "name": "stdout",
     "output_type": "stream",
     "text": [
      "X_train shape:  (246008, 250)\n",
      "X_test shape:  (61503, 250)\n"
     ]
    }
   ],
   "source": [
    "X_train_lr = X_train.copy()\n",
    "X_test_lr = X_test.copy()\n",
    "\n",
    "#features columns\n",
    "features = list(X_train.columns)\n",
    "\n",
    "#test set\n",
    "\n",
    "#SimpleImputer wirth strategy = median\n",
    "imputer = SimpleImputer(strategy='median')\n",
    "\n",
    "#Scale the features\n",
    "scaler = StandardScaler()\n",
    "\n",
    "#Fit on the training data\n",
    "\n",
    "#Imputer\n",
    "imputer.fit(X_train_lr)\n",
    "X_train_lr = imputer.transform(X_train_lr)\n",
    "X_test_lr = imputer.transform(X_test_lr)\n",
    "\n",
    "#Scaler\n",
    "scaler.fit(X_train_lr)\n",
    "X_train_lr = scaler.transform(X_train_lr)\n",
    "X_test_lr = scaler.transform(X_test_lr)\n",
    "\n",
    "print('X_train shape: ', X_train_lr.shape)\n",
    "print('X_test shape: ', X_test_lr.shape)"
   ]
  },
  {
   "cell_type": "markdown",
   "id": "trained-guard",
   "metadata": {},
   "source": [
    "#### Use over_sampling method"
   ]
  },
  {
   "cell_type": "code",
   "execution_count": 24,
   "id": "shaped-governor",
   "metadata": {
    "ExecuteTime": {
     "end_time": "2021-05-10T22:43:05.045650Z",
     "start_time": "2021-05-10T22:43:04.134738Z"
    }
   },
   "outputs": [],
   "source": [
    "#Set up ratio\n",
    "n_pos = np.sum(y_train==1)\n",
    "n_neg = np.sum(y_train==0)\n",
    "ratio = {1 : n_pos * 4, 0 : n_neg}\n",
    "\n",
    "#Randomly oversample positive samples: create 4x as many\n",
    "ROS = imblearn.over_sampling.RandomOverSampler(sampling_strategy=ratio, random_state=42)\n",
    "\n",
    "X_train_rs, y_train_rs = ROS.fit_resample(X_train_lr, y_train)\n",
    "\n"
   ]
  },
  {
   "cell_type": "code",
   "execution_count": 35,
   "id": "biological-convert",
   "metadata": {
    "ExecuteTime": {
     "end_time": "2021-05-10T23:14:56.020945Z",
     "start_time": "2021-05-10T23:14:56.012924Z"
    }
   },
   "outputs": [
    {
     "name": "stdout",
     "output_type": "stream",
     "text": [
      "Oversampled X_train shape:  (305636, 250)\n",
      "Oversampled y_train shape:  (305636,)\n"
     ]
    }
   ],
   "source": [
    "print('Oversampled X_train shape: ', X_train_rs.shape)\n",
    "print('Oversampled y_train shape: ', y_train_rs.shape)"
   ]
  },
  {
   "cell_type": "code",
   "execution_count": 28,
   "id": "celtic-developer",
   "metadata": {
    "ExecuteTime": {
     "end_time": "2021-05-10T22:49:20.675540Z",
     "start_time": "2021-05-10T22:48:54.125038Z"
    }
   },
   "outputs": [
    {
     "name": "stdout",
     "output_type": "stream",
     "text": [
      "Simple Logistic Regression; Test F1: 0.01395, Test AUC: 0.74863\n",
      "Logistic Regression on Oversampled Train Data; Test F1: 0.26838, Test AUC: 0.74903\n"
     ]
    }
   ],
   "source": [
    "lr = LogisticRegression(solver='liblinear', C=0.001) \n",
    "lr.fit(X_train_lr, y_train)\n",
    "\n",
    "print('Simple Logistic Regression; Test F1: %.5f, Test AUC: %.5f' % \\\n",
    "      (f1_score(y_test, lr.predict(X_test_lr)), roc_auc_score(y_test, lr.predict_proba(X_test_lr)[:,1]))) \n",
    "\n",
    "lr_os = LogisticRegression(solver='liblinear', C=0.001) \n",
    "lr_os.fit(X_train_rs, y_train_rs)\n",
    "\n",
    "print('Logistic Regression on Oversampled Train Data; Test F1: %.5f, Test AUC: %.5f' % \\\n",
    "      (f1_score(y_test, lr_os.predict(X_test_lr)), roc_auc_score(y_test, lr_os.predict_proba(X_test_lr)[:,1])))"
   ]
  },
  {
   "cell_type": "markdown",
   "id": "clean-bridges",
   "metadata": {},
   "source": [
    "F1 score on the oversampled train data method improves significantly"
   ]
  },
  {
   "cell_type": "markdown",
   "id": "removable-davis",
   "metadata": {},
   "source": [
    "#### During Model Training - Class Weights"
   ]
  },
  {
   "cell_type": "code",
   "execution_count": 32,
   "id": "caring-province",
   "metadata": {
    "ExecuteTime": {
     "end_time": "2021-05-10T23:01:25.112614Z",
     "start_time": "2021-05-10T23:00:45.816330Z"
    }
   },
   "outputs": [
    {
     "name": "stdout",
     "output_type": "stream",
     "text": [
      "Normal Logistic Regression Test F1: 0.01395, Test AUC: 0.74863\n",
      "Balanced class weights Logistic Regression Test F1: 0.25820, Test AUC: 0.74910\n",
      "4:1 class weights Logistic Regression Test F1: 0.27094, Test AUC: 0.74918\n"
     ]
    }
   ],
   "source": [
    "lr = LogisticRegression(solver='liblinear', C=0.001) \n",
    "lr_balanced = LogisticRegression(class_weight='balanced', solver='liblinear', C=0.001)\n",
    "lr_4x = LogisticRegression(class_weight={1 : 4, 0 : 1}, solver='liblinear', C=0.001)\n",
    "\n",
    "lr.fit(X_train_lr, y_train)\n",
    "print('Normal Logistic Regression Test F1: %.5f, Test AUC: %.5f' % \\\n",
    "      (f1_score(y_test, lr.predict(X_test_lr)), roc_auc_score(y_test, lr.predict_proba(X_test_lr)[:,1])))\n",
    "\n",
    "lr_balanced.fit(X_train_lr, y_train)\n",
    "print('Balanced class weights Logistic Regression Test F1: %.5f, Test AUC: %.5f' % \\\n",
    "      (f1_score(y_test, lr_balanced.predict(X_test_lr)), roc_auc_score(y_test, lr_balanced.predict_proba(X_test_lr)[:,1])))\n",
    "\n",
    "lr_4x.fit(X_train_lr, y_train)\n",
    "print('4:1 class weights Logistic Regression Test F1: %.5f, Test AUC: %.5f' % \\\n",
    "      (f1_score(y_test, lr_4x.predict(X_test_lr)), roc_auc_score(y_test, lr_4x.predict_proba(X_test_lr)[:,1])))"
   ]
  },
  {
   "cell_type": "code",
   "execution_count": 36,
   "id": "multiple-killer",
   "metadata": {
    "ExecuteTime": {
     "end_time": "2021-05-10T23:16:07.980543Z",
     "start_time": "2021-05-10T23:15:51.989920Z"
    }
   },
   "outputs": [
    {
     "name": "stdout",
     "output_type": "stream",
     "text": [
      "5:1 class weights Logistic Regression Test F1: 0.28828, Test AUC: 0.74923\n"
     ]
    }
   ],
   "source": [
    "lr_5x = LogisticRegression(class_weight={1 : 5, 0 : 1}, solver='liblinear', C=0.001)\n",
    "lr_5x.fit(X_train_lr, y_train)\n",
    "print('5:1 class weights Logistic Regression Test F1: %.5f, Test AUC: %.5f' % \\\n",
    "      (f1_score(y_test, lr_5x.predict(X_test_lr)), roc_auc_score(y_test, lr_5x.predict_proba(X_test_lr)[:,1])))"
   ]
  },
  {
   "cell_type": "markdown",
   "id": "advanced-boring",
   "metadata": {},
   "source": [
    "### SGD Classifier"
   ]
  },
  {
   "cell_type": "code",
   "execution_count": 37,
   "id": "designed-advocate",
   "metadata": {
    "ExecuteTime": {
     "end_time": "2021-05-10T23:32:34.484261Z",
     "start_time": "2021-05-10T23:32:23.086392Z"
    }
   },
   "outputs": [
    {
     "data": {
      "text/plain": [
       "SGDClassifier(random_state=42)"
      ]
     },
     "execution_count": 37,
     "metadata": {},
     "output_type": "execute_result"
    }
   ],
   "source": [
    "from sklearn.linear_model import SGDClassifier\n",
    "\n",
    "sgd_clf = SGDClassifier(max_iter=1000, tol=1e-3, random_state=42)\n",
    "sgd_clf.fit(X_train_rs, y_train_rs)"
   ]
  },
  {
   "cell_type": "code",
   "execution_count": 48,
   "id": "alternate-universe",
   "metadata": {
    "ExecuteTime": {
     "end_time": "2021-05-10T23:36:23.716157Z",
     "start_time": "2021-05-10T23:36:23.676174Z"
    }
   },
   "outputs": [
    {
     "data": {
      "text/plain": [
       "array([0, 0, 0, ..., 0, 0, 0], dtype=int64)"
      ]
     },
     "execution_count": 48,
     "metadata": {},
     "output_type": "execute_result"
    }
   ],
   "source": [
    "sgd_clf.predict(X_test_lr)"
   ]
  },
  {
   "cell_type": "code",
   "execution_count": 49,
   "id": "expanded-pantyhose",
   "metadata": {
    "ExecuteTime": {
     "end_time": "2021-05-10T23:37:59.981720Z",
     "start_time": "2021-05-10T23:37:34.633161Z"
    }
   },
   "outputs": [
    {
     "data": {
      "text/plain": [
       "array([0.26331623, 0.22658019, 0.20712218])"
      ]
     },
     "execution_count": 49,
     "metadata": {},
     "output_type": "execute_result"
    }
   ],
   "source": [
    "from sklearn.model_selection import cross_val_score\n",
    "cross_val_score(sgd_clf, X_train_rs, y_train_rs, cv=3, scoring=\"f1\")"
   ]
  },
  {
   "cell_type": "code",
   "execution_count": 50,
   "id": "patent-convention",
   "metadata": {
    "ExecuteTime": {
     "end_time": "2021-05-10T23:38:54.362390Z",
     "start_time": "2021-05-10T23:38:31.217327Z"
    }
   },
   "outputs": [
    {
     "data": {
      "text/plain": [
       "array([0.7548268 , 0.7518625 , 0.75260606])"
      ]
     },
     "execution_count": 50,
     "metadata": {},
     "output_type": "execute_result"
    }
   ],
   "source": [
    "from sklearn.model_selection import cross_val_score\n",
    "cross_val_score(sgd_clf, X_train_rs, y_train_rs, cv=3, scoring=\"accuracy\")"
   ]
  },
  {
   "cell_type": "code",
   "execution_count": 51,
   "id": "joined-sellers",
   "metadata": {
    "ExecuteTime": {
     "end_time": "2021-05-10T23:45:56.175859Z",
     "start_time": "2021-05-10T23:45:14.391696Z"
    }
   },
   "outputs": [
    {
     "data": {
      "text/plain": [
       "array([[219779,   6353],\n",
       "       [ 69310,  10194]], dtype=int64)"
      ]
     },
     "execution_count": 51,
     "metadata": {},
     "output_type": "execute_result"
    }
   ],
   "source": [
    "#Confusion matrix\n",
    "\n",
    "from sklearn.model_selection import cross_val_predict\n",
    "from sklearn.metrics import confusion_matrix\n",
    "\n",
    "y_train_pred = cross_val_predict(sgd_clf, X_train_rs, y_train_rs, cv = 5)\n",
    "confusion_matrix(y_train_rs, y_train_pred)"
   ]
  },
  {
   "cell_type": "code",
   "execution_count": 59,
   "id": "vocal-weapon",
   "metadata": {
    "ExecuteTime": {
     "end_time": "2021-05-10T23:52:15.829043Z",
     "start_time": "2021-05-10T23:52:15.721217Z"
    }
   },
   "outputs": [
    {
     "data": {
      "text/plain": [
       "0.7255326730400978"
      ]
     },
     "execution_count": 59,
     "metadata": {},
     "output_type": "execute_result"
    }
   ],
   "source": [
    "from sklearn.metrics import roc_auc_score\n",
    "\n",
    "roc_auc_score(y_train_rs, y_scores)"
   ]
  },
  {
   "cell_type": "code",
   "execution_count": 63,
   "id": "controlled-bahamas",
   "metadata": {
    "ExecuteTime": {
     "end_time": "2021-05-11T00:03:56.972798Z",
     "start_time": "2021-05-11T00:03:56.904806Z"
    }
   },
   "outputs": [],
   "source": [
    "from sklearn.metrics import roc_curve\n",
    "\n",
    "fpr, tpr, thresholds = roc_curve(y_train_rs, y_scores)"
   ]
  },
  {
   "cell_type": "markdown",
   "id": "noble-lucas",
   "metadata": {},
   "source": [
    "### Random Forest"
   ]
  },
  {
   "cell_type": "code",
   "execution_count": 60,
   "id": "humanitarian-violence",
   "metadata": {
    "ExecuteTime": {
     "end_time": "2021-05-11T00:01:39.465823Z",
     "start_time": "2021-05-10T23:53:03.858337Z"
    }
   },
   "outputs": [],
   "source": [
    "from sklearn.ensemble import RandomForestClassifier\n",
    "forest_clf = RandomForestClassifier(n_estimators=100, random_state=42)\n",
    "y_probas_forest = cross_val_predict(forest_clf, X_train_rs, y_train_rs, cv=3,\n",
    "                                    method=\"predict_proba\")"
   ]
  },
  {
   "cell_type": "code",
   "execution_count": 64,
   "id": "fancy-hands",
   "metadata": {
    "ExecuteTime": {
     "end_time": "2021-05-11T00:04:47.827328Z",
     "start_time": "2021-05-11T00:04:47.771299Z"
    }
   },
   "outputs": [],
   "source": [
    "y_scores_forest = y_probas_forest[:, 1] # score = proba of positive class\n",
    "fpr_forest, tpr_forest, thresholds_forest = roc_curve(y_train_rs,y_scores_forest)"
   ]
  },
  {
   "cell_type": "code",
   "execution_count": 70,
   "id": "polished-audit",
   "metadata": {
    "ExecuteTime": {
     "end_time": "2021-05-11T00:07:35.302216Z",
     "start_time": "2021-05-11T00:07:35.218366Z"
    }
   },
   "outputs": [
    {
     "data": {
      "text/plain": [
       "0.9954202758453836"
      ]
     },
     "execution_count": 70,
     "metadata": {},
     "output_type": "execute_result"
    }
   ],
   "source": [
    "roc_auc_score(y_train_rs, y_scores_forest)"
   ]
  },
  {
   "cell_type": "code",
   "execution_count": 72,
   "id": "exclusive-stupid",
   "metadata": {
    "ExecuteTime": {
     "end_time": "2021-05-11T00:15:09.286960Z",
     "start_time": "2021-05-11T00:10:47.834378Z"
    }
   },
   "outputs": [
    {
     "data": {
      "text/plain": [
       "0.9925089331291476"
      ]
     },
     "execution_count": 72,
     "metadata": {},
     "output_type": "execute_result"
    }
   ],
   "source": [
    "#Train set\n",
    "y_train_pred_forest = cross_val_predict(forest_clf, X_train_rs, y_train_rs, cv=3)\n",
    "precision_score(y_train_rs, y_train_pred_forest)"
   ]
  },
  {
   "cell_type": "code",
   "execution_count": 73,
   "id": "royal-professional",
   "metadata": {
    "ExecuteTime": {
     "end_time": "2021-05-11T00:15:31.467096Z",
     "start_time": "2021-05-11T00:15:31.367167Z"
    }
   },
   "outputs": [
    {
     "data": {
      "text/plain": [
       "0.9782275105655062"
      ]
     },
     "execution_count": 73,
     "metadata": {},
     "output_type": "execute_result"
    }
   ],
   "source": [
    "recall_score(y_train_rs, y_train_pred_forest)"
   ]
  },
  {
   "cell_type": "code",
   "execution_count": 74,
   "id": "coupled-pennsylvania",
   "metadata": {
    "ExecuteTime": {
     "end_time": "2021-05-11T00:15:41.879835Z",
     "start_time": "2021-05-11T00:15:41.775854Z"
    }
   },
   "outputs": [
    {
     "data": {
      "text/plain": [
       "0.985316474940455"
      ]
     },
     "execution_count": 74,
     "metadata": {},
     "output_type": "execute_result"
    }
   ],
   "source": [
    "f1_score(y_train_rs, y_train_pred_forest)"
   ]
  },
  {
   "cell_type": "code",
   "execution_count": 81,
   "id": "french-humor",
   "metadata": {
    "ExecuteTime": {
     "end_time": "2021-05-11T00:29:59.748210Z",
     "start_time": "2021-05-11T00:29:59.544454Z"
    }
   },
   "outputs": [
    {
     "data": {
      "text/plain": [
       "array([[225545,    587],\n",
       "       [  1731,  77773]], dtype=int64)"
      ]
     },
     "execution_count": 81,
     "metadata": {},
     "output_type": "execute_result"
    }
   ],
   "source": [
    "confusion_matrix(y_train_rs, y_train_pred_forest)"
   ]
  },
  {
   "cell_type": "code",
   "execution_count": 65,
   "id": "interstate-transparency",
   "metadata": {
    "ExecuteTime": {
     "end_time": "2021-05-11T00:04:57.380777Z",
     "start_time": "2021-05-11T00:04:57.364768Z"
    }
   },
   "outputs": [],
   "source": [
    "def plot_roc_curve(fpr, tpr, label=None):\n",
    "    plt.plot(fpr, tpr, linewidth=2, label=label)\n",
    "    plt.plot([0, 1], [0, 1], 'k--') \n",
    "    plt.axis([0, 1, 0, 1])                                   \n",
    "    plt.xlabel('False Positive Rate', fontsize=16)\n",
    "    plt.ylabel('True Positive Rate (Recall)', fontsize=16)   \n",
    "    plt.grid(True)              "
   ]
  },
  {
   "cell_type": "code",
   "execution_count": 71,
   "id": "whole-bubble",
   "metadata": {
    "ExecuteTime": {
     "end_time": "2021-05-11T00:08:33.683887Z",
     "start_time": "2021-05-11T00:08:33.360320Z"
    }
   },
   "outputs": [
    {
     "data": {
      "image/png": "[encoded data removed]",
      "text/plain": [
       "<Figure size 720x576 with 1 Axes>"
      ]
     },
     "metadata": {
      "image/png": {
       "height": 491,
       "width": 623
      }
     },
     "output_type": "display_data"
    }
   ],
   "source": [
    "plt.figure(figsize=(10, 8))\n",
    "plt.plot(fpr, tpr, \"b:\", linewidth=2, label=\"SGD\")\n",
    "plot_roc_curve(fpr_forest, tpr_forest, \"Random Forest\")\n",
    "plt.grid(True)\n",
    "plt.legend(loc=\"lower right\", fontsize=16)\n",
    "plt.savefig('roc_curve_comparison_plot.png')\n",
    "plt.show();"
   ]
  },
  {
   "cell_type": "markdown",
   "id": "alien-firewall",
   "metadata": {},
   "source": [
    "### AdaBoost"
   ]
  },
  {
   "cell_type": "code",
   "execution_count": 90,
   "id": "female-custom",
   "metadata": {
    "ExecuteTime": {
     "end_time": "2021-05-11T00:54:40.992832Z",
     "start_time": "2021-05-11T00:46:09.479160Z"
    }
   },
   "outputs": [
    {
     "data": {
      "text/plain": [
       "AdaBoostClassifier(base_estimator=DecisionTreeClassifier(max_depth=1),\n",
       "                   learning_rate=0.5, n_estimators=200, random_state=42)"
      ]
     },
     "execution_count": 90,
     "metadata": {},
     "output_type": "execute_result"
    }
   ],
   "source": [
    "from sklearn.ensemble import AdaBoostClassifier\n",
    "from sklearn.tree import DecisionTreeClassifier\n",
    "\n",
    "ada_clf = AdaBoostClassifier(\n",
    "    DecisionTreeClassifier(max_depth=1), n_estimators=200,\n",
    "    algorithm=\"SAMME.R\", learning_rate=0.5, random_state=42)\n",
    "ada_clf.fit(X_train_rs, y_train_rs)"
   ]
  },
  {
   "cell_type": "code",
   "execution_count": 91,
   "id": "polar-transsexual",
   "metadata": {
    "ExecuteTime": {
     "end_time": "2021-05-11T00:56:37.835569Z",
     "start_time": "2021-05-11T00:56:30.826324Z"
    }
   },
   "outputs": [
    {
     "data": {
      "text/plain": [
       "array([[0.50052751, 0.49947249],\n",
       "       [0.50429542, 0.49570458],\n",
       "       [0.5001226 , 0.4998774 ],\n",
       "       ...,\n",
       "       [0.5045692 , 0.4954308 ],\n",
       "       [0.50327424, 0.49672576],\n",
       "       [0.50333188, 0.49666812]])"
      ]
     },
     "execution_count": 91,
     "metadata": {},
     "output_type": "execute_result"
    }
   ],
   "source": [
    "ada_clf.predict_proba(X_test_lr)"
   ]
  },
  {
   "cell_type": "code",
   "execution_count": 92,
   "id": "optional-soldier",
   "metadata": {
    "ExecuteTime": {
     "end_time": "2021-05-11T00:57:09.178577Z",
     "start_time": "2021-05-11T00:57:02.198936Z"
    }
   },
   "outputs": [
    {
     "data": {
      "text/plain": [
       "array([0, 0, 0, ..., 0, 0, 0], dtype=int64)"
      ]
     },
     "execution_count": 92,
     "metadata": {},
     "output_type": "execute_result"
    }
   ],
   "source": [
    "ada_clf.predict(X_test_lr)"
   ]
  },
  {
   "cell_type": "markdown",
   "id": "accompanied-lyric",
   "metadata": {},
   "source": [
    "### XGBoost"
   ]
  },
  {
   "cell_type": "code",
   "execution_count": 93,
   "id": "broadband-ribbon",
   "metadata": {
    "ExecuteTime": {
     "end_time": "2021-05-11T01:00:35.793154Z",
     "start_time": "2021-05-11T00:59:43.099275Z"
    }
   },
   "outputs": [
    {
     "data": {
      "text/plain": [
       "XGBClassifier(base_score=0.5, booster='gbtree', colsample_bylevel=1,\n",
       "              colsample_bynode=1, colsample_bytree=1, eval_metric='auc',\n",
       "              gamma=0.382, gpu_id=-1, importance_type='gain',\n",
       "              interaction_constraints='', learning_rate=0.277, max_delta_step=0,\n",
       "              max_depth=4, min_child_weight=1, missing=nan,\n",
       "              monotone_constraints='()', n_estimators=100, n_jobs=0,\n",
       "              num_parallel_tree=1, random_state=42, reg_alpha=0, reg_lambda=1,\n",
       "              scale_pos_weight=1, subsample=1, tree_method='exact',\n",
       "              validate_parameters=1, verbosity=None)"
      ]
     },
     "execution_count": 93,
     "metadata": {},
     "output_type": "execute_result"
    }
   ],
   "source": [
    "import xgboost as xgb\n",
    "xgb_model = xgb.XGBClassifier(objective=\"binary:logistic\", random_state=42, \n",
    "                              eval_metric=\"auc\", max_depth=4,learning_rate=0.277, gamma=0.382)\n",
    "xgb_model.fit(X_train_rs, y_train_rs)"
   ]
  },
  {
   "cell_type": "code",
   "execution_count": 94,
   "id": "urban-plenty",
   "metadata": {
    "ExecuteTime": {
     "end_time": "2021-05-11T01:00:41.786660Z",
     "start_time": "2021-05-11T01:00:40.461311Z"
    }
   },
   "outputs": [
    {
     "name": "stdout",
     "output_type": "stream",
     "text": [
      "0.8083586709275555\n"
     ]
    }
   ],
   "source": [
    "print(roc_auc_score(y_train_rs, xgb_model.predict_proba(X_train_rs)[:,1]))"
   ]
  },
  {
   "cell_type": "code",
   "execution_count": 95,
   "id": "labeled-rabbit",
   "metadata": {
    "ExecuteTime": {
     "end_time": "2021-05-11T01:01:15.725976Z",
     "start_time": "2021-05-11T01:01:14.431373Z"
    }
   },
   "outputs": [
    {
     "name": "stdout",
     "output_type": "stream",
     "text": [
      "0.46467059947928685\n"
     ]
    }
   ],
   "source": [
    "print(f1_score(y_train_rs, xgb_model.predict(X_train_rs)))"
   ]
  },
  {
   "cell_type": "code",
   "execution_count": null,
   "id": "equivalent-theater",
   "metadata": {},
   "outputs": [],
   "source": []
  }
 ],
 "metadata": {
  "kernelspec": {
   "display_name": "Python [conda env:metis] *",
   "language": "python",
   "name": "conda-env-metis-py"
  },
  "language_info": {
   "codemirror_mode": {
    "name": "ipython",
    "version": 3
   },
   "file_extension": ".py",
   "mimetype": "text/x-python",
   "name": "python",
   "nbconvert_exporter": "python",
   "pygments_lexer": "ipython3",
   "version": "3.8.8"
  },
  "toc": {
   "base_numbering": 1,
   "nav_menu": {},
   "number_sections": true,
   "sideBar": true,
   "skip_h1_title": false,
   "title_cell": "Table of Contents",
   "title_sidebar": "Contents",
   "toc_cell": false,
   "toc_position": {
    "height": "calc(100% - 180px)",
    "left": "10px",
    "top": "150px",
    "width": "225.273px"
   },
   "toc_section_display": true,
   "toc_window_display": true
  },
  "varInspector": {
   "cols": {
    "lenName": 16,
    "lenType": 16,
    "lenVar": 40
   },
   "kernels_config": {
    "python": {
     "delete_cmd_postfix": "",
     "delete_cmd_prefix": "del ",
     "library": "var_list.py",
     "varRefreshCmd": "print(var_dic_list())"
    },
    "r": {
     "delete_cmd_postfix": ") ",
     "delete_cmd_prefix": "rm(",
     "library": "var_list.r",
     "varRefreshCmd": "cat(var_dic_list()) "
    }
   },
   "types_to_exclude": [
    "module",
    "function",
    "builtin_function_or_method",
    "instance",
    "_Feature"
   ],
   "window_display": false
  }
 },
 "nbformat": 4,
 "nbformat_minor": 5
}
