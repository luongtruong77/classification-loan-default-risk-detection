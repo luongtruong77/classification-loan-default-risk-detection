{
 "cells": [
  {
   "cell_type": "code",
   "execution_count": 1,
   "id": "union-triangle",
   "metadata": {
    "ExecuteTime": {
     "end_time": "2021-05-13T15:06:12.917102Z",
     "start_time": "2021-05-13T15:06:07.321093Z"
    }
   },
   "outputs": [
    {
     "name": "stdout",
     "output_type": "stream",
     "text": [
      "Populating the interactive namespace from numpy and matplotlib\n"
     ]
    }
   ],
   "source": [
    "import numpy as np\n",
    "import os\n",
    "import pandas as pd\n",
    "np.random.seed(42)\n",
    "\n",
    "%matplotlib inline\n",
    "import matplotlib as mpl\n",
    "import matplotlib.pyplot as plt\n",
    "\n",
    "%pylab inline\n",
    "%config InlineBackend.figure_formats = ['retina']\n",
    "\n",
    "from collections import OrderedDict\n",
    "\n",
    "import seaborn as sns\n",
    "sns.set()\n",
    "\n",
    "from sklearn.linear_model import LogisticRegression\n",
    "from sklearn.metrics import f1_score, roc_auc_score, roc_curve, precision_score, recall_score, fbeta_score\n",
    "\n",
    "import warnings\n",
    "warnings.simplefilter(action='ignore')\n",
    "\n",
    "import imblearn.over_sampling\n",
    "\n",
    "from sklearn.pipeline import Pipeline\n",
    "from sklearn.preprocessing import MinMaxScaler, Binarizer, OneHotEncoder, StandardScaler, OrdinalEncoder, PolynomialFeatures\n",
    "from sklearn.impute import SimpleImputer\n",
    "from sklearn.model_selection import train_test_split"
   ]
  },
  {
   "cell_type": "markdown",
   "id": "sharing-rally",
   "metadata": {},
   "source": [
    "### Baseline Model"
   ]
  },
  {
   "cell_type": "code",
   "execution_count": 2,
   "id": "single-thermal",
   "metadata": {
    "ExecuteTime": {
     "end_time": "2021-05-13T15:06:15.573480Z",
     "start_time": "2021-05-13T15:06:12.921090Z"
    }
   },
   "outputs": [],
   "source": [
    "base_train = pd.read_csv(\"../data/application_train.csv\")"
   ]
  },
  {
   "cell_type": "code",
   "execution_count": 3,
   "id": "valid-panama",
   "metadata": {
    "ExecuteTime": {
     "end_time": "2021-05-13T15:06:15.866684Z",
     "start_time": "2021-05-13T15:06:15.578457Z"
    }
   },
   "outputs": [
    {
     "name": "stdout",
     "output_type": "stream",
     "text": [
      "X_base shape:  (307511, 105)\n",
      "y_base shape:  (307511,)\n"
     ]
    }
   ],
   "source": [
    "X_base_train = base_train.drop(columns=['TARGET'])\n",
    "num_features = X_base_train.select_dtypes('number').columns.values\n",
    "X_base_train = X_base_train[num_features]\n",
    "y_base_train = base_train.TARGET\n",
    "print('X_base shape: ', X_base_train.shape)\n",
    "print('y_base shape: ', y_base_train.shape)"
   ]
  },
  {
   "cell_type": "code",
   "execution_count": 4,
   "id": "patent-sample",
   "metadata": {
    "ExecuteTime": {
     "end_time": "2021-05-13T15:06:19.908917Z",
     "start_time": "2021-05-13T15:06:15.868679Z"
    }
   },
   "outputs": [
    {
     "name": "stdout",
     "output_type": "stream",
     "text": [
      "X_train shape:  (246008, 105)\n",
      "X_test shape:  (61503, 105)\n"
     ]
    }
   ],
   "source": [
    "X_base_train, X_base_test, y_base_train, y_base_test = train_test_split(X_base_train, y_base_train, \n",
    "                                                                        test_size=0.2, random_state=42)\n",
    "\n",
    "#features columns\n",
    "features = list(X_base_train.columns)\n",
    "\n",
    "#test set\n",
    "\n",
    "#SimpleImputer wirth strategy = median\n",
    "imputer = SimpleImputer(strategy='median')\n",
    "\n",
    "#Scale the features\n",
    "scaler = StandardScaler()\n",
    "\n",
    "#Fit on the training data\n",
    "\n",
    "#Imputer\n",
    "imputer.fit(X_base_train)\n",
    "X_base_train = imputer.transform(X_base_train)\n",
    "X_base_test = imputer.transform(X_base_test)\n",
    "\n",
    "\n",
    "print('X_train shape: ', X_base_train.shape)\n",
    "print('X_test shape: ', X_base_test.shape)"
   ]
  },
  {
   "cell_type": "code",
   "execution_count": 5,
   "id": "banner-monthly",
   "metadata": {
    "ExecuteTime": {
     "end_time": "2021-05-13T15:06:26.844119Z",
     "start_time": "2021-05-13T15:06:19.911885Z"
    }
   },
   "outputs": [
    {
     "data": {
      "text/plain": [
       "LogisticRegression(solver='liblinear')"
      ]
     },
     "execution_count": 5,
     "metadata": {},
     "output_type": "execute_result"
    }
   ],
   "source": [
    "lr_base = LogisticRegression(solver='liblinear') \n",
    "lr_base.fit(X_base_train, y_base_train)"
   ]
  },
  {
   "cell_type": "code",
   "execution_count": 6,
   "id": "pregnant-framework",
   "metadata": {
    "ExecuteTime": {
     "end_time": "2021-05-13T15:06:26.953967Z",
     "start_time": "2021-05-13T15:06:26.847113Z"
    }
   },
   "outputs": [
    {
     "name": "stdout",
     "output_type": "stream",
     "text": [
      "Baseline Logistic Regression; Test F1: 0.000000000, Test AUC: 0.62473\n"
     ]
    }
   ],
   "source": [
    "print('Baseline Logistic Regression; Test F1: %.9f, Test AUC: %.5f' % \\\n",
    "      (f1_score(y_base_test, lr_base.predict(X_base_test)), roc_auc_score(y_base_test, lr_base.predict_proba(X_base_test)[:,1]))) "
   ]
  },
  {
   "cell_type": "code",
   "execution_count": 7,
   "id": "experienced-picture",
   "metadata": {
    "ExecuteTime": {
     "end_time": "2021-05-13T15:06:26.985912Z",
     "start_time": "2021-05-13T15:06:26.956965Z"
    }
   },
   "outputs": [],
   "source": [
    "fpr_lr_base, tpr_lr_base, thresholds_lr_base = roc_curve(y_base_test, lr_base.predict_proba(X_base_test)[:, 1])"
   ]
  },
  {
   "cell_type": "code",
   "execution_count": 8,
   "id": "imposed-signal",
   "metadata": {
    "ExecuteTime": {
     "end_time": "2021-05-13T15:06:27.031791Z",
     "start_time": "2021-05-13T15:06:26.987877Z"
    }
   },
   "outputs": [
    {
     "data": {
      "text/plain": [
       "0.0"
      ]
     },
     "execution_count": 8,
     "metadata": {},
     "output_type": "execute_result"
    }
   ],
   "source": [
    "fbeta_score(y_base_test, lr_base.predict(X_base_test), 2)"
   ]
  },
  {
   "cell_type": "code",
   "execution_count": 9,
   "id": "independent-breast",
   "metadata": {
    "ExecuteTime": {
     "end_time": "2021-05-13T15:06:27.078666Z",
     "start_time": "2021-05-13T15:06:27.035758Z"
    }
   },
   "outputs": [
    {
     "data": {
      "text/plain": [
       "0.0"
      ]
     },
     "execution_count": 9,
     "metadata": {},
     "output_type": "execute_result"
    }
   ],
   "source": [
    "recall_score(y_base_test, lr_base.predict(X_base_test))"
   ]
  },
  {
   "cell_type": "markdown",
   "id": "valid-klein",
   "metadata": {},
   "source": [
    "### Load data and add domain features"
   ]
  },
  {
   "cell_type": "code",
   "execution_count": 10,
   "id": "lesbian-clarity",
   "metadata": {
    "ExecuteTime": {
     "end_time": "2021-05-13T15:06:31.424465Z",
     "start_time": "2021-05-13T15:06:27.081628Z"
    }
   },
   "outputs": [
    {
     "name": "stdout",
     "output_type": "stream",
     "text": [
      "(307511, 247)\n"
     ]
    },
    {
     "data": {
      "text/html": [
       "<div>\n",
       "<style scoped>\n",
       "    .dataframe tbody tr th:only-of-type {\n",
       "        vertical-align: middle;\n",
       "    }\n",
       "\n",
       "    .dataframe tbody tr th {\n",
       "        vertical-align: top;\n",
       "    }\n",
       "\n",
       "    .dataframe thead th {\n",
       "        text-align: right;\n",
       "    }\n",
       "</style>\n",
       "<table border=\"1\" class=\"dataframe\">\n",
       "  <thead>\n",
       "    <tr style=\"text-align: right;\">\n",
       "      <th></th>\n",
       "      <th>SK_ID_CURR</th>\n",
       "      <th>TARGET</th>\n",
       "      <th>CNT_CHILDREN</th>\n",
       "      <th>AMT_INCOME_TOTAL</th>\n",
       "      <th>AMT_CREDIT</th>\n",
       "      <th>AMT_ANNUITY</th>\n",
       "      <th>AMT_GOODS_PRICE</th>\n",
       "      <th>REGION_POPULATION_RELATIVE</th>\n",
       "      <th>DAYS_BIRTH</th>\n",
       "      <th>DAYS_EMPLOYED</th>\n",
       "      <th>...</th>\n",
       "      <th>WALLSMATERIAL_MODE_Block</th>\n",
       "      <th>WALLSMATERIAL_MODE_Mixed</th>\n",
       "      <th>WALLSMATERIAL_MODE_Monolithic</th>\n",
       "      <th>WALLSMATERIAL_MODE_Others</th>\n",
       "      <th>WALLSMATERIAL_MODE_Panel</th>\n",
       "      <th>WALLSMATERIAL_MODE_Stone, brick</th>\n",
       "      <th>WALLSMATERIAL_MODE_Wooden</th>\n",
       "      <th>EMERGENCYSTATE_MODE_No</th>\n",
       "      <th>EMERGENCYSTATE_MODE_Yes</th>\n",
       "      <th>DAYS_EMPLOYED_ANOM</th>\n",
       "    </tr>\n",
       "  </thead>\n",
       "  <tbody>\n",
       "    <tr>\n",
       "      <th>0</th>\n",
       "      <td>100002</td>\n",
       "      <td>1</td>\n",
       "      <td>0</td>\n",
       "      <td>202500.0</td>\n",
       "      <td>406597.5</td>\n",
       "      <td>24700.5</td>\n",
       "      <td>351000.0</td>\n",
       "      <td>0.018801</td>\n",
       "      <td>-9461</td>\n",
       "      <td>637.0</td>\n",
       "      <td>...</td>\n",
       "      <td>0</td>\n",
       "      <td>0</td>\n",
       "      <td>0</td>\n",
       "      <td>0</td>\n",
       "      <td>0</td>\n",
       "      <td>1</td>\n",
       "      <td>0</td>\n",
       "      <td>1</td>\n",
       "      <td>0</td>\n",
       "      <td>False</td>\n",
       "    </tr>\n",
       "    <tr>\n",
       "      <th>1</th>\n",
       "      <td>100003</td>\n",
       "      <td>0</td>\n",
       "      <td>0</td>\n",
       "      <td>270000.0</td>\n",
       "      <td>1293502.5</td>\n",
       "      <td>35698.5</td>\n",
       "      <td>1129500.0</td>\n",
       "      <td>0.003541</td>\n",
       "      <td>-16765</td>\n",
       "      <td>1188.0</td>\n",
       "      <td>...</td>\n",
       "      <td>1</td>\n",
       "      <td>0</td>\n",
       "      <td>0</td>\n",
       "      <td>0</td>\n",
       "      <td>0</td>\n",
       "      <td>0</td>\n",
       "      <td>0</td>\n",
       "      <td>1</td>\n",
       "      <td>0</td>\n",
       "      <td>False</td>\n",
       "    </tr>\n",
       "    <tr>\n",
       "      <th>2</th>\n",
       "      <td>100004</td>\n",
       "      <td>0</td>\n",
       "      <td>0</td>\n",
       "      <td>67500.0</td>\n",
       "      <td>135000.0</td>\n",
       "      <td>6750.0</td>\n",
       "      <td>135000.0</td>\n",
       "      <td>0.010032</td>\n",
       "      <td>-19046</td>\n",
       "      <td>225.0</td>\n",
       "      <td>...</td>\n",
       "      <td>0</td>\n",
       "      <td>0</td>\n",
       "      <td>0</td>\n",
       "      <td>0</td>\n",
       "      <td>0</td>\n",
       "      <td>0</td>\n",
       "      <td>0</td>\n",
       "      <td>0</td>\n",
       "      <td>0</td>\n",
       "      <td>False</td>\n",
       "    </tr>\n",
       "    <tr>\n",
       "      <th>3</th>\n",
       "      <td>100006</td>\n",
       "      <td>0</td>\n",
       "      <td>0</td>\n",
       "      <td>135000.0</td>\n",
       "      <td>312682.5</td>\n",
       "      <td>29686.5</td>\n",
       "      <td>297000.0</td>\n",
       "      <td>0.008019</td>\n",
       "      <td>-19005</td>\n",
       "      <td>3039.0</td>\n",
       "      <td>...</td>\n",
       "      <td>0</td>\n",
       "      <td>0</td>\n",
       "      <td>0</td>\n",
       "      <td>0</td>\n",
       "      <td>0</td>\n",
       "      <td>0</td>\n",
       "      <td>0</td>\n",
       "      <td>0</td>\n",
       "      <td>0</td>\n",
       "      <td>False</td>\n",
       "    </tr>\n",
       "    <tr>\n",
       "      <th>4</th>\n",
       "      <td>100007</td>\n",
       "      <td>0</td>\n",
       "      <td>0</td>\n",
       "      <td>121500.0</td>\n",
       "      <td>513000.0</td>\n",
       "      <td>21865.5</td>\n",
       "      <td>513000.0</td>\n",
       "      <td>0.028663</td>\n",
       "      <td>-19932</td>\n",
       "      <td>3038.0</td>\n",
       "      <td>...</td>\n",
       "      <td>0</td>\n",
       "      <td>0</td>\n",
       "      <td>0</td>\n",
       "      <td>0</td>\n",
       "      <td>0</td>\n",
       "      <td>0</td>\n",
       "      <td>0</td>\n",
       "      <td>0</td>\n",
       "      <td>0</td>\n",
       "      <td>False</td>\n",
       "    </tr>\n",
       "  </tbody>\n",
       "</table>\n",
       "<p>5 rows × 247 columns</p>\n",
       "</div>"
      ],
      "text/plain": [
       "   SK_ID_CURR  TARGET  CNT_CHILDREN  AMT_INCOME_TOTAL  AMT_CREDIT  \\\n",
       "0      100002       1             0          202500.0    406597.5   \n",
       "1      100003       0             0          270000.0   1293502.5   \n",
       "2      100004       0             0           67500.0    135000.0   \n",
       "3      100006       0             0          135000.0    312682.5   \n",
       "4      100007       0             0          121500.0    513000.0   \n",
       "\n",
       "   AMT_ANNUITY  AMT_GOODS_PRICE  REGION_POPULATION_RELATIVE  DAYS_BIRTH  \\\n",
       "0      24700.5         351000.0                    0.018801       -9461   \n",
       "1      35698.5        1129500.0                    0.003541      -16765   \n",
       "2       6750.0         135000.0                    0.010032      -19046   \n",
       "3      29686.5         297000.0                    0.008019      -19005   \n",
       "4      21865.5         513000.0                    0.028663      -19932   \n",
       "\n",
       "   DAYS_EMPLOYED  ...  WALLSMATERIAL_MODE_Block  WALLSMATERIAL_MODE_Mixed  \\\n",
       "0          637.0  ...                         0                         0   \n",
       "1         1188.0  ...                         1                         0   \n",
       "2          225.0  ...                         0                         0   \n",
       "3         3039.0  ...                         0                         0   \n",
       "4         3038.0  ...                         0                         0   \n",
       "\n",
       "   WALLSMATERIAL_MODE_Monolithic  WALLSMATERIAL_MODE_Others  \\\n",
       "0                              0                          0   \n",
       "1                              0                          0   \n",
       "2                              0                          0   \n",
       "3                              0                          0   \n",
       "4                              0                          0   \n",
       "\n",
       "   WALLSMATERIAL_MODE_Panel  WALLSMATERIAL_MODE_Stone, brick  \\\n",
       "0                         0                                1   \n",
       "1                         0                                0   \n",
       "2                         0                                0   \n",
       "3                         0                                0   \n",
       "4                         0                                0   \n",
       "\n",
       "   WALLSMATERIAL_MODE_Wooden  EMERGENCYSTATE_MODE_No  EMERGENCYSTATE_MODE_Yes  \\\n",
       "0                          0                       1                        0   \n",
       "1                          0                       1                        0   \n",
       "2                          0                       0                        0   \n",
       "3                          0                       0                        0   \n",
       "4                          0                       0                        0   \n",
       "\n",
       "   DAYS_EMPLOYED_ANOM  \n",
       "0               False  \n",
       "1               False  \n",
       "2               False  \n",
       "3               False  \n",
       "4               False  \n",
       "\n",
       "[5 rows x 247 columns]"
      ]
     },
     "execution_count": 10,
     "metadata": {},
     "output_type": "execute_result"
    }
   ],
   "source": [
    "app_train = pd.read_csv('app_train.csv', index_col=0)\n",
    "print(app_train.shape)\n",
    "app_train.head()"
   ]
  },
  {
   "cell_type": "code",
   "execution_count": 11,
   "id": "original-group",
   "metadata": {
    "ExecuteTime": {
     "end_time": "2021-05-13T15:06:31.486317Z",
     "start_time": "2021-05-13T15:06:31.427460Z"
    }
   },
   "outputs": [
    {
     "name": "stdout",
     "output_type": "stream",
     "text": [
      "(307511, 251)\n"
     ]
    },
    {
     "data": {
      "text/html": [
       "<div>\n",
       "<style scoped>\n",
       "    .dataframe tbody tr th:only-of-type {\n",
       "        vertical-align: middle;\n",
       "    }\n",
       "\n",
       "    .dataframe tbody tr th {\n",
       "        vertical-align: top;\n",
       "    }\n",
       "\n",
       "    .dataframe thead th {\n",
       "        text-align: right;\n",
       "    }\n",
       "</style>\n",
       "<table border=\"1\" class=\"dataframe\">\n",
       "  <thead>\n",
       "    <tr style=\"text-align: right;\">\n",
       "      <th></th>\n",
       "      <th>SK_ID_CURR</th>\n",
       "      <th>TARGET</th>\n",
       "      <th>CNT_CHILDREN</th>\n",
       "      <th>AMT_INCOME_TOTAL</th>\n",
       "      <th>AMT_CREDIT</th>\n",
       "      <th>AMT_ANNUITY</th>\n",
       "      <th>AMT_GOODS_PRICE</th>\n",
       "      <th>REGION_POPULATION_RELATIVE</th>\n",
       "      <th>DAYS_BIRTH</th>\n",
       "      <th>DAYS_EMPLOYED</th>\n",
       "      <th>...</th>\n",
       "      <th>WALLSMATERIAL_MODE_Panel</th>\n",
       "      <th>WALLSMATERIAL_MODE_Stone, brick</th>\n",
       "      <th>WALLSMATERIAL_MODE_Wooden</th>\n",
       "      <th>EMERGENCYSTATE_MODE_No</th>\n",
       "      <th>EMERGENCYSTATE_MODE_Yes</th>\n",
       "      <th>DAYS_EMPLOYED_ANOM</th>\n",
       "      <th>CREDIT_INCOME_PERCENT</th>\n",
       "      <th>ANNUITY_INCOME_PERCENT</th>\n",
       "      <th>CREDIT_TERM</th>\n",
       "      <th>DAYS_EMPLOYED_PERCENT</th>\n",
       "    </tr>\n",
       "  </thead>\n",
       "  <tbody>\n",
       "    <tr>\n",
       "      <th>0</th>\n",
       "      <td>100002</td>\n",
       "      <td>1</td>\n",
       "      <td>0</td>\n",
       "      <td>202500.0</td>\n",
       "      <td>406597.5</td>\n",
       "      <td>24700.5</td>\n",
       "      <td>351000.0</td>\n",
       "      <td>0.018801</td>\n",
       "      <td>-9461</td>\n",
       "      <td>637.0</td>\n",
       "      <td>...</td>\n",
       "      <td>0</td>\n",
       "      <td>1</td>\n",
       "      <td>0</td>\n",
       "      <td>1</td>\n",
       "      <td>0</td>\n",
       "      <td>False</td>\n",
       "      <td>2.007889</td>\n",
       "      <td>0.121978</td>\n",
       "      <td>0.060749</td>\n",
       "      <td>-0.067329</td>\n",
       "    </tr>\n",
       "    <tr>\n",
       "      <th>1</th>\n",
       "      <td>100003</td>\n",
       "      <td>0</td>\n",
       "      <td>0</td>\n",
       "      <td>270000.0</td>\n",
       "      <td>1293502.5</td>\n",
       "      <td>35698.5</td>\n",
       "      <td>1129500.0</td>\n",
       "      <td>0.003541</td>\n",
       "      <td>-16765</td>\n",
       "      <td>1188.0</td>\n",
       "      <td>...</td>\n",
       "      <td>0</td>\n",
       "      <td>0</td>\n",
       "      <td>0</td>\n",
       "      <td>1</td>\n",
       "      <td>0</td>\n",
       "      <td>False</td>\n",
       "      <td>4.790750</td>\n",
       "      <td>0.132217</td>\n",
       "      <td>0.027598</td>\n",
       "      <td>-0.070862</td>\n",
       "    </tr>\n",
       "    <tr>\n",
       "      <th>2</th>\n",
       "      <td>100004</td>\n",
       "      <td>0</td>\n",
       "      <td>0</td>\n",
       "      <td>67500.0</td>\n",
       "      <td>135000.0</td>\n",
       "      <td>6750.0</td>\n",
       "      <td>135000.0</td>\n",
       "      <td>0.010032</td>\n",
       "      <td>-19046</td>\n",
       "      <td>225.0</td>\n",
       "      <td>...</td>\n",
       "      <td>0</td>\n",
       "      <td>0</td>\n",
       "      <td>0</td>\n",
       "      <td>0</td>\n",
       "      <td>0</td>\n",
       "      <td>False</td>\n",
       "      <td>2.000000</td>\n",
       "      <td>0.100000</td>\n",
       "      <td>0.050000</td>\n",
       "      <td>-0.011814</td>\n",
       "    </tr>\n",
       "    <tr>\n",
       "      <th>3</th>\n",
       "      <td>100006</td>\n",
       "      <td>0</td>\n",
       "      <td>0</td>\n",
       "      <td>135000.0</td>\n",
       "      <td>312682.5</td>\n",
       "      <td>29686.5</td>\n",
       "      <td>297000.0</td>\n",
       "      <td>0.008019</td>\n",
       "      <td>-19005</td>\n",
       "      <td>3039.0</td>\n",
       "      <td>...</td>\n",
       "      <td>0</td>\n",
       "      <td>0</td>\n",
       "      <td>0</td>\n",
       "      <td>0</td>\n",
       "      <td>0</td>\n",
       "      <td>False</td>\n",
       "      <td>2.316167</td>\n",
       "      <td>0.219900</td>\n",
       "      <td>0.094941</td>\n",
       "      <td>-0.159905</td>\n",
       "    </tr>\n",
       "    <tr>\n",
       "      <th>4</th>\n",
       "      <td>100007</td>\n",
       "      <td>0</td>\n",
       "      <td>0</td>\n",
       "      <td>121500.0</td>\n",
       "      <td>513000.0</td>\n",
       "      <td>21865.5</td>\n",
       "      <td>513000.0</td>\n",
       "      <td>0.028663</td>\n",
       "      <td>-19932</td>\n",
       "      <td>3038.0</td>\n",
       "      <td>...</td>\n",
       "      <td>0</td>\n",
       "      <td>0</td>\n",
       "      <td>0</td>\n",
       "      <td>0</td>\n",
       "      <td>0</td>\n",
       "      <td>False</td>\n",
       "      <td>4.222222</td>\n",
       "      <td>0.179963</td>\n",
       "      <td>0.042623</td>\n",
       "      <td>-0.152418</td>\n",
       "    </tr>\n",
       "  </tbody>\n",
       "</table>\n",
       "<p>5 rows × 251 columns</p>\n",
       "</div>"
      ],
      "text/plain": [
       "   SK_ID_CURR  TARGET  CNT_CHILDREN  AMT_INCOME_TOTAL  AMT_CREDIT  \\\n",
       "0      100002       1             0          202500.0    406597.5   \n",
       "1      100003       0             0          270000.0   1293502.5   \n",
       "2      100004       0             0           67500.0    135000.0   \n",
       "3      100006       0             0          135000.0    312682.5   \n",
       "4      100007       0             0          121500.0    513000.0   \n",
       "\n",
       "   AMT_ANNUITY  AMT_GOODS_PRICE  REGION_POPULATION_RELATIVE  DAYS_BIRTH  \\\n",
       "0      24700.5         351000.0                    0.018801       -9461   \n",
       "1      35698.5        1129500.0                    0.003541      -16765   \n",
       "2       6750.0         135000.0                    0.010032      -19046   \n",
       "3      29686.5         297000.0                    0.008019      -19005   \n",
       "4      21865.5         513000.0                    0.028663      -19932   \n",
       "\n",
       "   DAYS_EMPLOYED  ...  WALLSMATERIAL_MODE_Panel  \\\n",
       "0          637.0  ...                         0   \n",
       "1         1188.0  ...                         0   \n",
       "2          225.0  ...                         0   \n",
       "3         3039.0  ...                         0   \n",
       "4         3038.0  ...                         0   \n",
       "\n",
       "   WALLSMATERIAL_MODE_Stone, brick  WALLSMATERIAL_MODE_Wooden  \\\n",
       "0                                1                          0   \n",
       "1                                0                          0   \n",
       "2                                0                          0   \n",
       "3                                0                          0   \n",
       "4                                0                          0   \n",
       "\n",
       "   EMERGENCYSTATE_MODE_No  EMERGENCYSTATE_MODE_Yes  DAYS_EMPLOYED_ANOM  \\\n",
       "0                       1                        0               False   \n",
       "1                       1                        0               False   \n",
       "2                       0                        0               False   \n",
       "3                       0                        0               False   \n",
       "4                       0                        0               False   \n",
       "\n",
       "   CREDIT_INCOME_PERCENT  ANNUITY_INCOME_PERCENT  CREDIT_TERM  \\\n",
       "0               2.007889                0.121978     0.060749   \n",
       "1               4.790750                0.132217     0.027598   \n",
       "2               2.000000                0.100000     0.050000   \n",
       "3               2.316167                0.219900     0.094941   \n",
       "4               4.222222                0.179963     0.042623   \n",
       "\n",
       "   DAYS_EMPLOYED_PERCENT  \n",
       "0              -0.067329  \n",
       "1              -0.070862  \n",
       "2              -0.011814  \n",
       "3              -0.159905  \n",
       "4              -0.152418  \n",
       "\n",
       "[5 rows x 251 columns]"
      ]
     },
     "execution_count": 11,
     "metadata": {},
     "output_type": "execute_result"
    }
   ],
   "source": [
    "app_train['CREDIT_INCOME_PERCENT'] = app_train['AMT_CREDIT'] / app_train['AMT_INCOME_TOTAL']\n",
    "app_train['ANNUITY_INCOME_PERCENT'] = app_train['AMT_ANNUITY'] / app_train['AMT_INCOME_TOTAL']\n",
    "app_train['CREDIT_TERM'] = app_train['AMT_ANNUITY'] / app_train['AMT_CREDIT']\n",
    "app_train['DAYS_EMPLOYED_PERCENT'] = app_train['DAYS_EMPLOYED'] / app_train['DAYS_BIRTH']\n",
    "print(app_train.shape)\n",
    "app_train.head()"
   ]
  },
  {
   "cell_type": "code",
   "execution_count": 12,
   "id": "amber-positive",
   "metadata": {
    "ExecuteTime": {
     "end_time": "2021-05-13T15:06:32.314229Z",
     "start_time": "2021-05-13T15:06:31.488349Z"
    }
   },
   "outputs": [
    {
     "name": "stdout",
     "output_type": "stream",
     "text": [
      "X_train shape:  (246008, 250)\n",
      "X_test shape:  (61503, 250)\n",
      "y_train shape:  (246008,)\n",
      "y_test shape:  (61503,)\n"
     ]
    }
   ],
   "source": [
    "X = app_train.drop(columns=['TARGET'])\n",
    "y = app_train.TARGET\n",
    "X_train, X_test, y_train, y_test = train_test_split(X, y, test_size=0.2, random_state=42)\n",
    "print('X_train shape: ', X_train.shape)\n",
    "print('X_test shape: ', X_test.shape)\n",
    "print('y_train shape: ', y_train.shape)\n",
    "print('y_test shape: ', y_test.shape)"
   ]
  },
  {
   "cell_type": "markdown",
   "id": "downtown-assurance",
   "metadata": {},
   "source": [
    "### Logistic Regression"
   ]
  },
  {
   "cell_type": "markdown",
   "id": "dramatic-retrieval",
   "metadata": {},
   "source": [
    "#### Impute missing values and scale the data"
   ]
  },
  {
   "cell_type": "code",
   "execution_count": 13,
   "id": "received-vessel",
   "metadata": {
    "ExecuteTime": {
     "end_time": "2021-05-13T15:06:47.154256Z",
     "start_time": "2021-05-13T15:06:32.317191Z"
    }
   },
   "outputs": [
    {
     "name": "stdout",
     "output_type": "stream",
     "text": [
      "X_train shape:  (246008, 250)\n",
      "X_test shape:  (61503, 250)\n"
     ]
    }
   ],
   "source": [
    "X_train_lr = X_train.copy()\n",
    "X_test_lr = X_test.copy()\n",
    "\n",
    "#features columns\n",
    "features = list(X_train.columns)\n",
    "\n",
    "#test set\n",
    "\n",
    "#SimpleImputer wirth strategy = median\n",
    "imputer = SimpleImputer(strategy='median')\n",
    "\n",
    "#Scale the features\n",
    "scaler = StandardScaler()\n",
    "\n",
    "#Fit on the training data\n",
    "\n",
    "#Imputer\n",
    "imputer.fit(X_train_lr)\n",
    "X_train_lr = imputer.transform(X_train_lr)\n",
    "X_test_lr = imputer.transform(X_test_lr)\n",
    "\n",
    "#Scaler\n",
    "scaler.fit(X_train_lr)\n",
    "X_train_lr = scaler.transform(X_train_lr)\n",
    "X_test_lr = scaler.transform(X_test_lr)\n",
    "\n",
    "print('X_train shape: ', X_train_lr.shape)\n",
    "print('X_test shape: ', X_test_lr.shape)"
   ]
  },
  {
   "cell_type": "markdown",
   "id": "trained-guard",
   "metadata": {},
   "source": [
    "#### Use over_sampling method"
   ]
  },
  {
   "cell_type": "code",
   "execution_count": 14,
   "id": "shaped-governor",
   "metadata": {
    "ExecuteTime": {
     "end_time": "2021-05-13T15:06:47.969322Z",
     "start_time": "2021-05-13T15:06:47.156255Z"
    }
   },
   "outputs": [],
   "source": [
    "#Set up ratio\n",
    "n_pos = np.sum(y_train==1)\n",
    "n_neg = np.sum(y_train==0)\n",
    "ratio = {1 : n_pos * 4, 0 : n_neg}\n",
    "\n",
    "#Randomly oversample positive samples: create 4x as many\n",
    "ROS = imblearn.over_sampling.RandomOverSampler(sampling_strategy=ratio, random_state=42)\n",
    "\n",
    "X_train_rs, y_train_rs = ROS.fit_resample(X_train_lr, y_train)\n",
    "\n"
   ]
  },
  {
   "cell_type": "code",
   "execution_count": 15,
   "id": "biological-convert",
   "metadata": {
    "ExecuteTime": {
     "end_time": "2021-05-13T15:06:47.985281Z",
     "start_time": "2021-05-13T15:06:47.971231Z"
    }
   },
   "outputs": [
    {
     "name": "stdout",
     "output_type": "stream",
     "text": [
      "Oversampled X_train shape:  (305636, 250)\n",
      "Oversampled y_train shape:  (305636,)\n"
     ]
    }
   ],
   "source": [
    "print('Oversampled X_train shape: ', X_train_rs.shape)\n",
    "print('Oversampled y_train shape: ', y_train_rs.shape)"
   ]
  },
  {
   "cell_type": "code",
   "execution_count": 16,
   "id": "celtic-developer",
   "metadata": {
    "ExecuteTime": {
     "end_time": "2021-05-13T15:07:14.733847Z",
     "start_time": "2021-05-13T15:06:47.988193Z"
    }
   },
   "outputs": [
    {
     "name": "stdout",
     "output_type": "stream",
     "text": [
      "Simple Logistic Regression; Test F1: 0.01395, Test AUC: 0.74863\n",
      "Logistic Regression on Oversampled Train Data; Test F1: 0.26838, Test AUC: 0.74903\n"
     ]
    }
   ],
   "source": [
    "lr = LogisticRegression(solver='liblinear', C=0.001) \n",
    "lr.fit(X_train_lr, y_train)\n",
    "\n",
    "print('Simple Logistic Regression; Test F1: %.5f, Test AUC: %.5f' % \\\n",
    "      (f1_score(y_test, lr.predict(X_test_lr)), roc_auc_score(y_test, lr.predict_proba(X_test_lr)[:,1]))) \n",
    "\n",
    "lr_os = LogisticRegression(solver='liblinear', C=0.001) \n",
    "lr_os.fit(X_train_rs, y_train_rs)\n",
    "\n",
    "print('Logistic Regression on Oversampled Train Data; Test F1: %.5f, Test AUC: %.5f' % \\\n",
    "      (f1_score(y_test, lr_os.predict(X_test_lr)), roc_auc_score(y_test, lr_os.predict_proba(X_test_lr)[:,1])))"
   ]
  },
  {
   "cell_type": "markdown",
   "id": "clean-bridges",
   "metadata": {},
   "source": [
    "F1 score on the oversampled train data method improves significantly"
   ]
  },
  {
   "cell_type": "markdown",
   "id": "removable-davis",
   "metadata": {},
   "source": [
    "#### During Model Training - Class Weights"
   ]
  },
  {
   "cell_type": "code",
   "execution_count": 17,
   "id": "caring-province",
   "metadata": {
    "ExecuteTime": {
     "end_time": "2021-05-13T15:08:00.925297Z",
     "start_time": "2021-05-13T15:07:14.735843Z"
    }
   },
   "outputs": [
    {
     "name": "stdout",
     "output_type": "stream",
     "text": [
      "Normal Logistic Regression Test F1: 0.01395, Test AUC: 0.74863\n",
      "Balanced class weights Logistic Regression Test F1: 0.25820, Test AUC: 0.74910\n",
      "4:1 class weights Logistic Regression Test F1: 0.27094, Test AUC: 0.74918\n"
     ]
    }
   ],
   "source": [
    "lr = LogisticRegression(solver='liblinear', C=0.001) \n",
    "lr_balanced = LogisticRegression(class_weight='balanced', solver='liblinear', C=0.001)\n",
    "lr_4x = LogisticRegression(class_weight={1 : 4, 0 : 1}, solver='liblinear', C=0.001)\n",
    "\n",
    "lr.fit(X_train_lr, y_train)\n",
    "print('Normal Logistic Regression Test F1: %.5f, Test AUC: %.5f' % \\\n",
    "      (f1_score(y_test, lr.predict(X_test_lr)), roc_auc_score(y_test, lr.predict_proba(X_test_lr)[:,1])))\n",
    "\n",
    "lr_balanced.fit(X_train_lr, y_train)\n",
    "print('Balanced class weights Logistic Regression Test F1: %.5f, Test AUC: %.5f' % \\\n",
    "      (f1_score(y_test, lr_balanced.predict(X_test_lr)), roc_auc_score(y_test, lr_balanced.predict_proba(X_test_lr)[:,1])))\n",
    "\n",
    "lr_4x.fit(X_train_lr, y_train)\n",
    "print('4:1 class weights Logistic Regression Test F1: %.5f, Test AUC: %.5f' % \\\n",
    "      (f1_score(y_test, lr_4x.predict(X_test_lr)), roc_auc_score(y_test, lr_4x.predict_proba(X_test_lr)[:,1])))"
   ]
  },
  {
   "cell_type": "code",
   "execution_count": 18,
   "id": "multiple-killer",
   "metadata": {
    "ExecuteTime": {
     "end_time": "2021-05-13T15:08:22.544584Z",
     "start_time": "2021-05-13T15:08:00.927289Z"
    }
   },
   "outputs": [
    {
     "name": "stdout",
     "output_type": "stream",
     "text": [
      "5:1 class weights Logistic Regression Test F1: 0.28828, Test AUC: 0.74923\n"
     ]
    }
   ],
   "source": [
    "lr_5x = LogisticRegression(class_weight={1 : 5, 0 : 1}, solver='liblinear', C=0.001)\n",
    "lr_5x.fit(X_train_lr, y_train)\n",
    "print('5:1 class weights Logistic Regression Test F1: %.5f, Test AUC: %.5f' % \\\n",
    "      (f1_score(y_test, lr_5x.predict(X_test_lr)), roc_auc_score(y_test, lr_5x.predict_proba(X_test_lr)[:,1])))"
   ]
  },
  {
   "cell_type": "code",
   "execution_count": 19,
   "id": "affected-mixture",
   "metadata": {
    "ExecuteTime": {
     "end_time": "2021-05-13T15:08:22.605421Z",
     "start_time": "2021-05-13T15:08:22.546577Z"
    }
   },
   "outputs": [],
   "source": [
    "fpr_lr, tpr_lr, thresholds_lr = roc_curve(y_test, lr_5x.predict_proba(X_test_lr)[:,1])"
   ]
  },
  {
   "cell_type": "code",
   "execution_count": 20,
   "id": "paperback-round",
   "metadata": {
    "ExecuteTime": {
     "end_time": "2021-05-13T15:08:22.668254Z",
     "start_time": "2021-05-13T15:08:22.608415Z"
    }
   },
   "outputs": [
    {
     "data": {
      "text/plain": [
       "0.31947204619595787"
      ]
     },
     "execution_count": 20,
     "metadata": {},
     "output_type": "execute_result"
    }
   ],
   "source": [
    "fbeta_score(y_test, lr_5x.predict(X_test_lr), 2)"
   ]
  },
  {
   "cell_type": "code",
   "execution_count": 21,
   "id": "posted-arlington",
   "metadata": {
    "ExecuteTime": {
     "end_time": "2021-05-13T15:08:22.732081Z",
     "start_time": "2021-05-13T15:08:22.670246Z"
    }
   },
   "outputs": [
    {
     "data": {
      "text/plain": [
       "0.34431198221863"
      ]
     },
     "execution_count": 21,
     "metadata": {},
     "output_type": "execute_result"
    }
   ],
   "source": [
    "recall_score(y_test, lr_5x.predict(X_test_lr))"
   ]
  },
  {
   "cell_type": "markdown",
   "id": "demonstrated-least",
   "metadata": {},
   "source": [
    "---"
   ]
  },
  {
   "cell_type": "code",
   "execution_count": 22,
   "id": "ready-grounds",
   "metadata": {
    "ExecuteTime": {
     "end_time": "2021-05-13T15:08:22.964450Z",
     "start_time": "2021-05-13T15:08:22.734731Z"
    }
   },
   "outputs": [],
   "source": [
    "X_train = X_train_rs.copy()\n",
    "y_train = y_train_rs.copy()\n",
    "X_test = X_test_lr.copy()"
   ]
  },
  {
   "cell_type": "markdown",
   "id": "unsigned-comparison",
   "metadata": {},
   "source": [
    "### KNN"
   ]
  },
  {
   "cell_type": "code",
   "execution_count": 23,
   "id": "light-zoning",
   "metadata": {
    "ExecuteTime": {
     "end_time": "2021-05-13T15:08:23.089600Z",
     "start_time": "2021-05-13T15:08:22.966419Z"
    }
   },
   "outputs": [
    {
     "data": {
      "text/plain": [
       "KNeighborsClassifier(n_neighbors=4, weights='distance')"
      ]
     },
     "execution_count": 23,
     "metadata": {},
     "output_type": "execute_result"
    }
   ],
   "source": [
    "from sklearn.neighbors import KNeighborsClassifier\n",
    "knn_clf = KNeighborsClassifier(weights='distance', n_neighbors=4)\n",
    "knn_clf.fit(X_train, y_train)"
   ]
  },
  {
   "cell_type": "code",
   "execution_count": 24,
   "id": "cloudy-sudan",
   "metadata": {
    "ExecuteTime": {
     "end_time": "2021-05-13T15:13:42.601008Z",
     "start_time": "2021-05-13T15:08:23.091595Z"
    }
   },
   "outputs": [],
   "source": [
    "y_knn_pred = knn_clf.predict_proba(X_test)"
   ]
  },
  {
   "cell_type": "code",
   "execution_count": 25,
   "id": "swiss-fruit",
   "metadata": {
    "ExecuteTime": {
     "end_time": "2021-05-13T15:19:07.592530Z",
     "start_time": "2021-05-13T15:13:42.603014Z"
    }
   },
   "outputs": [
    {
     "name": "stdout",
     "output_type": "stream",
     "text": [
      "ROC AUC score on test set:  0.5544581127043177\n",
      "F1 score on test set:  0.14269952188304524\n"
     ]
    }
   ],
   "source": [
    "#Test sets\n",
    "print('ROC AUC score on test set: ', roc_auc_score(y_test, y_knn_pred[:,1]))\n",
    "print('F1 score on test set: ', f1_score(y_test, knn_clf.predict(X_test)))"
   ]
  },
  {
   "cell_type": "code",
   "execution_count": 26,
   "id": "unknown-anchor",
   "metadata": {
    "ExecuteTime": {
     "end_time": "2021-05-13T15:19:07.608481Z",
     "start_time": "2021-05-13T15:19:07.594488Z"
    }
   },
   "outputs": [],
   "source": [
    "fpr_knn, tpr_knn, thresholds_knn = roc_curve(y_test, y_knn_pred[:,1])"
   ]
  },
  {
   "cell_type": "code",
   "execution_count": 27,
   "id": "simplified-pound",
   "metadata": {
    "ExecuteTime": {
     "end_time": "2021-05-13T15:24:46.018023Z",
     "start_time": "2021-05-13T15:19:07.615429Z"
    }
   },
   "outputs": [],
   "source": [
    "knn_pred_hard = knn_clf.predict(X_test)"
   ]
  },
  {
   "cell_type": "code",
   "execution_count": null,
   "id": "cognitive-panic",
   "metadata": {},
   "outputs": [],
   "source": []
  },
  {
   "cell_type": "markdown",
   "id": "advanced-boring",
   "metadata": {},
   "source": [
    "### SGD Classifier"
   ]
  },
  {
   "cell_type": "code",
   "execution_count": 28,
   "id": "designed-advocate",
   "metadata": {
    "ExecuteTime": {
     "end_time": "2021-05-13T15:24:59.650854Z",
     "start_time": "2021-05-13T15:24:46.022224Z"
    }
   },
   "outputs": [
    {
     "data": {
      "text/plain": [
       "SGDClassifier(random_state=42)"
      ]
     },
     "execution_count": 28,
     "metadata": {},
     "output_type": "execute_result"
    }
   ],
   "source": [
    "\n",
    "from sklearn.linear_model import SGDClassifier\n",
    "\n",
    "sgd_clf = SGDClassifier(max_iter=1000, tol=1e-3, random_state=42)\n",
    "sgd_clf.fit(X_train, y_train)"
   ]
  },
  {
   "cell_type": "code",
   "execution_count": 29,
   "id": "alternate-universe",
   "metadata": {
    "ExecuteTime": {
     "end_time": "2021-05-13T15:24:59.696704Z",
     "start_time": "2021-05-13T15:24:59.652820Z"
    }
   },
   "outputs": [
    {
     "data": {
      "text/plain": [
       "array([0, 0, 0, ..., 0, 0, 0], dtype=int64)"
      ]
     },
     "execution_count": 29,
     "metadata": {},
     "output_type": "execute_result"
    }
   ],
   "source": [
    "sgd_clf.predict(X_test)"
   ]
  },
  {
   "cell_type": "code",
   "execution_count": 30,
   "id": "expanded-pantyhose",
   "metadata": {
    "ExecuteTime": {
     "end_time": "2021-05-13T15:25:28.023207Z",
     "start_time": "2021-05-13T15:24:59.698699Z"
    }
   },
   "outputs": [
    {
     "data": {
      "text/plain": [
       "array([0.26331623, 0.22658019, 0.20712218])"
      ]
     },
     "execution_count": 30,
     "metadata": {},
     "output_type": "execute_result"
    }
   ],
   "source": [
    "from sklearn.model_selection import cross_val_score\n",
    "cross_val_score(sgd_clf, X_train, y_train, cv=3, scoring=\"f1\")"
   ]
  },
  {
   "cell_type": "code",
   "execution_count": 31,
   "id": "patent-convention",
   "metadata": {
    "ExecuteTime": {
     "end_time": "2021-05-13T15:25:55.958242Z",
     "start_time": "2021-05-13T15:25:28.025169Z"
    }
   },
   "outputs": [
    {
     "data": {
      "text/plain": [
       "array([0.7548268 , 0.7518625 , 0.75260606])"
      ]
     },
     "execution_count": 31,
     "metadata": {},
     "output_type": "execute_result"
    }
   ],
   "source": [
    "from sklearn.model_selection import cross_val_score\n",
    "cross_val_score(sgd_clf, X_train, y_train, cv=3, scoring=\"accuracy\")"
   ]
  },
  {
   "cell_type": "code",
   "execution_count": 32,
   "id": "joined-sellers",
   "metadata": {
    "ExecuteTime": {
     "end_time": "2021-05-13T15:26:24.516490Z",
     "start_time": "2021-05-13T15:25:55.960235Z"
    }
   },
   "outputs": [
    {
     "data": {
      "text/plain": [
       "array([[218715,   7417],\n",
       "       [ 68045,  11459]], dtype=int64)"
      ]
     },
     "execution_count": 32,
     "metadata": {},
     "output_type": "execute_result"
    }
   ],
   "source": [
    "#Confusion matrix\n",
    "\n",
    "from sklearn.model_selection import cross_val_predict\n",
    "from sklearn.metrics import confusion_matrix\n",
    "\n",
    "y_train_pred = cross_val_predict(sgd_clf, X_train, y_train, cv = 3)\n",
    "confusion_matrix(y_train, y_train_pred)"
   ]
  },
  {
   "cell_type": "code",
   "execution_count": 33,
   "id": "vocal-weapon",
   "metadata": {
    "ExecuteTime": {
     "end_time": "2021-05-13T15:26:24.765390Z",
     "start_time": "2021-05-13T15:26:24.519481Z"
    }
   },
   "outputs": [
    {
     "data": {
      "text/plain": [
       "0.7209400670373214"
      ]
     },
     "execution_count": 33,
     "metadata": {},
     "output_type": "execute_result"
    }
   ],
   "source": [
    "from sklearn.metrics import roc_auc_score\n",
    "y_scores = sgd_clf.decision_function(X_train)\n",
    "roc_auc_score(y_train, y_scores)"
   ]
  },
  {
   "cell_type": "code",
   "execution_count": 34,
   "id": "controlled-bahamas",
   "metadata": {
    "ExecuteTime": {
     "end_time": "2021-05-13T15:26:24.841250Z",
     "start_time": "2021-05-13T15:26:24.767385Z"
    }
   },
   "outputs": [],
   "source": [
    "from sklearn.metrics import roc_curve\n",
    "\n",
    "fpr, tpr, thresholds = roc_curve(y_train, y_scores)"
   ]
  },
  {
   "cell_type": "code",
   "execution_count": 35,
   "id": "british-register",
   "metadata": {
    "ExecuteTime": {
     "end_time": "2021-05-13T15:26:24.949006Z",
     "start_time": "2021-05-13T15:26:24.843233Z"
    }
   },
   "outputs": [
    {
     "name": "stdout",
     "output_type": "stream",
     "text": [
      "0.7210321385927242\n",
      "0.10961667787491593\n"
     ]
    }
   ],
   "source": [
    "#Test sets\n",
    "print(roc_auc_score(y_test, sgd_clf.decision_function(X_test)))\n",
    "print(f1_score(y_test, sgd_clf.predict(X_test)))"
   ]
  },
  {
   "cell_type": "code",
   "execution_count": 36,
   "id": "waiting-negative",
   "metadata": {
    "ExecuteTime": {
     "end_time": "2021-05-13T15:26:25.010840Z",
     "start_time": "2021-05-13T15:26:24.951996Z"
    }
   },
   "outputs": [
    {
     "data": {
      "text/plain": [
       "0.07838422697763886"
      ]
     },
     "execution_count": 36,
     "metadata": {},
     "output_type": "execute_result"
    }
   ],
   "source": [
    "fbeta_score(y_test, sgd_clf.predict(X_test), 2)"
   ]
  },
  {
   "cell_type": "code",
   "execution_count": 37,
   "id": "velvet-copyright",
   "metadata": {
    "ExecuteTime": {
     "end_time": "2021-05-13T15:26:25.072349Z",
     "start_time": "2021-05-13T15:26:25.012833Z"
    }
   },
   "outputs": [
    {
     "data": {
      "text/plain": [
       "0.3263263263263263"
      ]
     },
     "execution_count": 37,
     "metadata": {},
     "output_type": "execute_result"
    }
   ],
   "source": [
    "precision_score(y_test, sgd_clf.predict(X_test))"
   ]
  },
  {
   "cell_type": "markdown",
   "id": "noble-lucas",
   "metadata": {},
   "source": [
    "### Random Forest"
   ]
  },
  {
   "cell_type": "code",
   "execution_count": 38,
   "id": "humanitarian-violence",
   "metadata": {
    "ExecuteTime": {
     "end_time": "2021-05-13T15:31:33.518575Z",
     "start_time": "2021-05-13T15:26:25.074344Z"
    }
   },
   "outputs": [],
   "source": [
    "from sklearn.ensemble import RandomForestClassifier\n",
    "forest_clf = RandomForestClassifier(n_estimators=100, random_state=42)\n",
    "y_probas_forest = cross_val_predict(forest_clf, X_train, y_train, cv=3,\n",
    "                                    method=\"predict_proba\")"
   ]
  },
  {
   "cell_type": "code",
   "execution_count": 39,
   "id": "fancy-hands",
   "metadata": {
    "ExecuteTime": {
     "end_time": "2021-05-13T15:31:33.581844Z",
     "start_time": "2021-05-13T15:31:33.521567Z"
    }
   },
   "outputs": [],
   "source": [
    "y_scores_forest = y_probas_forest[:, 1] # score = proba of positive class\n",
    "fpr_forest, tpr_forest, thresholds_forest = roc_curve(y_train, y_scores_forest)"
   ]
  },
  {
   "cell_type": "code",
   "execution_count": 40,
   "id": "polished-audit",
   "metadata": {
    "ExecuteTime": {
     "end_time": "2021-05-13T15:31:33.676962Z",
     "start_time": "2021-05-13T15:31:33.584846Z"
    }
   },
   "outputs": [
    {
     "data": {
      "text/plain": [
       "0.993542000594815"
      ]
     },
     "execution_count": 40,
     "metadata": {},
     "output_type": "execute_result"
    }
   ],
   "source": [
    "roc_auc_score(y_train, y_scores_forest)"
   ]
  },
  {
   "cell_type": "code",
   "execution_count": 41,
   "id": "exclusive-stupid",
   "metadata": {
    "ExecuteTime": {
     "end_time": "2021-05-13T15:36:49.108348Z",
     "start_time": "2021-05-13T15:31:33.679974Z"
    }
   },
   "outputs": [
    {
     "name": "stdout",
     "output_type": "stream",
     "text": [
      "Precision score:  0.9925089331291476\n",
      "Recall score:  0.9782275105655062\n",
      "F1 score:  0.985316474940455\n"
     ]
    }
   ],
   "source": [
    "#Train set\n",
    "y_train_pred_forest = cross_val_predict(forest_clf, X_train, y_train, cv=3)\n",
    "print('Precision score: ', precision_score(y_train, y_train_pred_forest))\n",
    "print('Recall score: ', recall_score(y_train, y_train_pred_forest))\n",
    "print('F1 score: ', f1_score(y_train, y_train_pred_forest))"
   ]
  },
  {
   "cell_type": "code",
   "execution_count": 42,
   "id": "french-humor",
   "metadata": {
    "ExecuteTime": {
     "end_time": "2021-05-13T15:36:49.293332Z",
     "start_time": "2021-05-13T15:36:49.109821Z"
    }
   },
   "outputs": [
    {
     "data": {
      "text/plain": [
       "array([[225545,    587],\n",
       "       [  1731,  77773]], dtype=int64)"
      ]
     },
     "execution_count": 42,
     "metadata": {},
     "output_type": "execute_result"
    }
   ],
   "source": [
    "confusion_matrix(y_train_rs, y_train_pred_forest)"
   ]
  },
  {
   "cell_type": "code",
   "execution_count": 43,
   "id": "upset-sewing",
   "metadata": {
    "ExecuteTime": {
     "end_time": "2021-05-13T15:39:11.397849Z",
     "start_time": "2021-05-13T15:36:49.294367Z"
    }
   },
   "outputs": [
    {
     "name": "stdout",
     "output_type": "stream",
     "text": [
      "0.7316188727953299\n",
      "0.016749750747756732\n"
     ]
    }
   ],
   "source": [
    "#Test sets\n",
    "forest_clf.fit(X_train, y_train)\n",
    "print(roc_auc_score(y_test, forest_clf.predict_proba(X_test)[:,1]))\n",
    "print(f1_score(y_test, forest_clf.predict(X_test)))"
   ]
  },
  {
   "cell_type": "code",
   "execution_count": 44,
   "id": "social-thousand",
   "metadata": {
    "ExecuteTime": {
     "end_time": "2021-05-13T15:39:13.316760Z",
     "start_time": "2021-05-13T15:39:11.399844Z"
    }
   },
   "outputs": [
    {
     "name": "stdout",
     "output_type": "stream",
     "text": [
      "0.010572953378310341\n"
     ]
    }
   ],
   "source": [
    "print(fbeta_score(y_test, forest_clf.predict(X_test), 2))"
   ]
  },
  {
   "cell_type": "code",
   "execution_count": 45,
   "id": "interstate-transparency",
   "metadata": {
    "ExecuteTime": {
     "end_time": "2021-05-13T15:39:13.332203Z",
     "start_time": "2021-05-13T15:39:13.317726Z"
    }
   },
   "outputs": [],
   "source": [
    "def plot_roc_curve(fpr, tpr, label=None):\n",
    "    plt.plot(fpr, tpr, linewidth=2, label=label)\n",
    "    plt.plot([0, 1], [0, 1], 'k--') \n",
    "    plt.axis([0, 1, 0, 1])                                   \n",
    "    plt.xlabel('False Positive Rate', fontsize=16)\n",
    "    plt.ylabel('True Positive Rate (Recall)', fontsize=16)   \n",
    "    plt.grid(True)              "
   ]
  },
  {
   "cell_type": "code",
   "execution_count": 46,
   "id": "whole-bubble",
   "metadata": {
    "ExecuteTime": {
     "end_time": "2021-05-13T15:39:13.657974Z",
     "start_time": "2021-05-13T15:39:13.334171Z"
    }
   },
   "outputs": [
    {
     "data": {
      "image/png": "[encoded data removed]",
      "text/plain": [
       "<Figure size 720x576 with 1 Axes>"
      ]
     },
     "metadata": {
      "image/png": {
       "height": 491,
       "width": 623
      }
     },
     "output_type": "display_data"
    }
   ],
   "source": [
    "plt.figure(figsize=(10, 8))\n",
    "plt.plot(fpr, tpr, \"b:\", linewidth=2, label=\"SGD\")\n",
    "plot_roc_curve(fpr_forest, tpr_forest, \"Random Forest\")\n",
    "plt.grid(True)\n",
    "plt.legend(loc=\"lower right\", fontsize=16)\n",
    "plt.savefig('roc_curve_comparison_plot.png')\n",
    "plt.show();"
   ]
  },
  {
   "cell_type": "markdown",
   "id": "alien-firewall",
   "metadata": {},
   "source": [
    "### AdaBoost"
   ]
  },
  {
   "cell_type": "code",
   "execution_count": 47,
   "id": "female-custom",
   "metadata": {
    "ExecuteTime": {
     "end_time": "2021-05-13T15:39:13.673622Z",
     "start_time": "2021-05-13T15:39:13.658970Z"
    }
   },
   "outputs": [],
   "source": [
    "from sklearn.ensemble import AdaBoostClassifier\n",
    "from sklearn.tree import DecisionTreeClassifier\n",
    "\n",
    "ada_clf = AdaBoostClassifier(\n",
    "    DecisionTreeClassifier(max_depth=1), n_estimators=200,\n",
    "    algorithm=\"SAMME.R\", learning_rate=0.5, random_state=42)"
   ]
  },
  {
   "cell_type": "code",
   "execution_count": 48,
   "id": "legal-deficit",
   "metadata": {
    "ExecuteTime": {
     "end_time": "2021-05-13T15:55:28.052101Z",
     "start_time": "2021-05-13T15:39:13.676613Z"
    }
   },
   "outputs": [
    {
     "name": "stdout",
     "output_type": "stream",
     "text": [
      "Precision score:  0.6248692653418888\n",
      "Recall score:  0.278048903199839\n",
      "F1 score:  0.38485041042470036\n"
     ]
    }
   ],
   "source": [
    "#Train set\n",
    "y_train_pred_ada = cross_val_predict(ada_clf, X_train, y_train, cv=3)\n",
    "print('Precision score: ', precision_score(y_train, y_train_pred_ada))\n",
    "print('Recall score: ', recall_score(y_train, y_train_pred_ada))\n",
    "print('F1 score: ', f1_score(y_train, y_train_pred_ada))"
   ]
  },
  {
   "cell_type": "code",
   "execution_count": 49,
   "id": "after-campus",
   "metadata": {
    "ExecuteTime": {
     "end_time": "2021-05-13T16:04:40.956101Z",
     "start_time": "2021-05-13T15:55:28.054043Z"
    }
   },
   "outputs": [
    {
     "name": "stdout",
     "output_type": "stream",
     "text": [
      "0.7632737070617461\n"
     ]
    }
   ],
   "source": [
    "ada_clf.fit(X_train, y_train)\n",
    "print(roc_auc_score(y_train, ada_clf.predict_proba(X_train)[:,1]))"
   ]
  },
  {
   "cell_type": "code",
   "execution_count": 50,
   "id": "suited-yacht",
   "metadata": {
    "ExecuteTime": {
     "end_time": "2021-05-13T16:04:57.997289Z",
     "start_time": "2021-05-13T16:04:40.958060Z"
    }
   },
   "outputs": [
    {
     "name": "stdout",
     "output_type": "stream",
     "text": [
      "0.7568934610910838\n",
      "0.27917948717948715\n"
     ]
    }
   ],
   "source": [
    "#Test sets\n",
    "print(roc_auc_score(y_test, ada_clf.predict_proba(X_test)[:,1]))\n",
    "print(f1_score(y_test, ada_clf.predict(X_test)))"
   ]
  },
  {
   "cell_type": "code",
   "execution_count": null,
   "id": "demonstrated-apparatus",
   "metadata": {},
   "outputs": [],
   "source": []
  },
  {
   "cell_type": "markdown",
   "id": "accompanied-lyric",
   "metadata": {},
   "source": [
    "### XGBoost"
   ]
  },
  {
   "cell_type": "code",
   "execution_count": 51,
   "id": "broadband-ribbon",
   "metadata": {
    "ExecuteTime": {
     "end_time": "2021-05-13T16:05:56.561430Z",
     "start_time": "2021-05-13T16:04:57.998902Z"
    }
   },
   "outputs": [
    {
     "data": {
      "text/plain": [
       "XGBClassifier(base_score=0.5, booster='gbtree', colsample_bylevel=1,\n",
       "              colsample_bynode=1, colsample_bytree=1, eval_metric='auc',\n",
       "              gamma=0.382, gpu_id=-1, importance_type='gain',\n",
       "              interaction_constraints='', learning_rate=0.277, max_delta_step=0,\n",
       "              max_depth=4, min_child_weight=1, missing=nan,\n",
       "              monotone_constraints='()', n_estimators=100, n_jobs=0,\n",
       "              num_parallel_tree=1, random_state=42, reg_alpha=0, reg_lambda=1,\n",
       "              scale_pos_weight=1, subsample=1, tree_method='exact',\n",
       "              validate_parameters=1, verbosity=None)"
      ]
     },
     "execution_count": 51,
     "metadata": {},
     "output_type": "execute_result"
    }
   ],
   "source": [
    "import xgboost as xgb\n",
    "xgb_model = xgb.XGBClassifier(objective=\"binary:logistic\", random_state=42, \n",
    "                              eval_metric=\"auc\", max_depth=4,learning_rate=0.277, gamma=0.382)\n",
    "xgb_model.fit(X_train_rs, y_train_rs)"
   ]
  },
  {
   "cell_type": "code",
   "execution_count": 52,
   "id": "urban-plenty",
   "metadata": {
    "ExecuteTime": {
     "end_time": "2021-05-13T16:05:58.158213Z",
     "start_time": "2021-05-13T16:05:56.563425Z"
    }
   },
   "outputs": [
    {
     "name": "stdout",
     "output_type": "stream",
     "text": [
      "0.8083586709275555\n"
     ]
    }
   ],
   "source": [
    "print(roc_auc_score(y_train_rs, xgb_model.predict_proba(X_train_rs)[:,1]))"
   ]
  },
  {
   "cell_type": "code",
   "execution_count": 53,
   "id": "labeled-rabbit",
   "metadata": {
    "ExecuteTime": {
     "end_time": "2021-05-13T16:05:59.681737Z",
     "start_time": "2021-05-13T16:05:58.161205Z"
    }
   },
   "outputs": [
    {
     "name": "stdout",
     "output_type": "stream",
     "text": [
      "0.46467059947928685\n"
     ]
    }
   ],
   "source": [
    "print(f1_score(y_train_rs, xgb_model.predict(X_train_rs)))"
   ]
  },
  {
   "cell_type": "code",
   "execution_count": 54,
   "id": "equivalent-theater",
   "metadata": {
    "ExecuteTime": {
     "end_time": "2021-05-13T16:06:00.297820Z",
     "start_time": "2021-05-13T16:05:59.682733Z"
    }
   },
   "outputs": [
    {
     "name": "stdout",
     "output_type": "stream",
     "text": [
      "0.7667187881729425\n",
      "0.2915388421573479\n"
     ]
    }
   ],
   "source": [
    "#Test sets\n",
    "print(roc_auc_score(y_test, xgb_model.predict_proba(X_test)[:,1]))\n",
    "print(f1_score(y_test, xgb_model.predict(X_test)))"
   ]
  },
  {
   "cell_type": "code",
   "execution_count": 55,
   "id": "express-danish",
   "metadata": {
    "ExecuteTime": {
     "end_time": "2021-05-13T16:11:20.475110Z",
     "start_time": "2021-05-13T16:06:00.299816Z"
    }
   },
   "outputs": [
    {
     "name": "stdout",
     "output_type": "stream",
     "text": [
      "The best number of tree:  541\n",
      "F1 score on the test set:  0.29118541033434653\n",
      "ROC AUC score on the test set:  0.7697344990909254\n"
     ]
    }
   ],
   "source": [
    "gbm = xgb.XGBClassifier( \n",
    "                        n_estimators=30000,\n",
    "                        max_depth=4,\n",
    "                        objective='binary:logistic', #new objective\n",
    "                        learning_rate=.05, \n",
    "                        subsample=.8,\n",
    "                        min_child_weight=3,\n",
    "                        colsample_bytree=.8,\n",
    "                        gamma=0.382\n",
    "                       )\n",
    "\n",
    "eval_set=[(X_train,y_train),(X_test,y_test)]\n",
    "fit_model = gbm.fit( \n",
    "                    X_train, y_train, \n",
    "                    eval_set=eval_set,\n",
    "                    eval_metric='auc', #new evaluation metric: classification error (could also use AUC, e.g.)\n",
    "                    early_stopping_rounds=50,\n",
    "                    verbose=False\n",
    "                   )\n",
    "\n",
    "print('The best number of tree: ', gbm.best_ntree_limit)\n",
    "print('F1 score on the test set: ', f1_score(y_test, gbm.predict(X_test, ntree_limit=gbm.best_ntree_limit)))\n",
    "print('ROC AUC score on the test set: ', roc_auc_score(y_test, gbm.predict_proba(X_test, ntree_limit=gbm.best_ntree_limit)[:, 1]))"
   ]
  },
  {
   "cell_type": "code",
   "execution_count": 56,
   "id": "dynamic-fancy",
   "metadata": {
    "ExecuteTime": {
     "end_time": "2021-05-13T16:13:55.102266Z",
     "start_time": "2021-05-13T16:11:20.477105Z"
    }
   },
   "outputs": [
    {
     "name": "stdout",
     "output_type": "stream",
     "text": [
      "[0]\tvalidation_0-auc:0.66843\tvalidation_1-auc:0.67329\n",
      "Multiple eval metrics have been passed: 'validation_1-auc' will be used for early stopping.\n",
      "\n",
      "Will train until validation_1-auc hasn't improved in 50 rounds.\n",
      "[1]\tvalidation_0-auc:0.71150\tvalidation_1-auc:0.71103\n",
      "[2]\tvalidation_0-auc:0.72693\tvalidation_1-auc:0.72468\n",
      "[3]\tvalidation_0-auc:0.72734\tvalidation_1-auc:0.72376\n",
      "[4]\tvalidation_0-auc:0.72725\tvalidation_1-auc:0.72372\n",
      "[5]\tvalidation_0-auc:0.72902\tvalidation_1-auc:0.72480\n",
      "[6]\tvalidation_0-auc:0.73196\tvalidation_1-auc:0.72855\n",
      "[7]\tvalidation_0-auc:0.73227\tvalidation_1-auc:0.72870\n",
      "[8]\tvalidation_0-auc:0.73269\tvalidation_1-auc:0.72870\n",
      "[9]\tvalidation_0-auc:0.73283\tvalidation_1-auc:0.72820\n",
      "[10]\tvalidation_0-auc:0.73348\tvalidation_1-auc:0.72840\n",
      "[11]\tvalidation_0-auc:0.73435\tvalidation_1-auc:0.72911\n",
      "[12]\tvalidation_0-auc:0.73509\tvalidation_1-auc:0.72964\n",
      "[13]\tvalidation_0-auc:0.73592\tvalidation_1-auc:0.73068\n",
      "[14]\tvalidation_0-auc:0.73809\tvalidation_1-auc:0.73284\n",
      "[15]\tvalidation_0-auc:0.73873\tvalidation_1-auc:0.73344\n",
      "[16]\tvalidation_0-auc:0.73987\tvalidation_1-auc:0.73443\n",
      "[17]\tvalidation_0-auc:0.74070\tvalidation_1-auc:0.73507\n",
      "[18]\tvalidation_0-auc:0.74137\tvalidation_1-auc:0.73551\n",
      "[19]\tvalidation_0-auc:0.74260\tvalidation_1-auc:0.73687\n",
      "[20]\tvalidation_0-auc:0.74351\tvalidation_1-auc:0.73744\n",
      "[21]\tvalidation_0-auc:0.74390\tvalidation_1-auc:0.73790\n",
      "[22]\tvalidation_0-auc:0.74632\tvalidation_1-auc:0.73996\n",
      "[23]\tvalidation_0-auc:0.74702\tvalidation_1-auc:0.74040\n",
      "[24]\tvalidation_0-auc:0.74787\tvalidation_1-auc:0.74106\n",
      "[25]\tvalidation_0-auc:0.74889\tvalidation_1-auc:0.74194\n",
      "[26]\tvalidation_0-auc:0.74972\tvalidation_1-auc:0.74265\n",
      "[27]\tvalidation_0-auc:0.75095\tvalidation_1-auc:0.74358\n",
      "[28]\tvalidation_0-auc:0.75223\tvalidation_1-auc:0.74450\n",
      "[29]\tvalidation_0-auc:0.75313\tvalidation_1-auc:0.74504\n",
      "[30]\tvalidation_0-auc:0.75413\tvalidation_1-auc:0.74571\n",
      "[31]\tvalidation_0-auc:0.75487\tvalidation_1-auc:0.74619\n",
      "[32]\tvalidation_0-auc:0.75565\tvalidation_1-auc:0.74667\n",
      "[33]\tvalidation_0-auc:0.75640\tvalidation_1-auc:0.74703\n",
      "[34]\tvalidation_0-auc:0.75692\tvalidation_1-auc:0.74742\n",
      "[35]\tvalidation_0-auc:0.75757\tvalidation_1-auc:0.74793\n",
      "[36]\tvalidation_0-auc:0.75784\tvalidation_1-auc:0.74804\n",
      "[37]\tvalidation_0-auc:0.75861\tvalidation_1-auc:0.74838\n",
      "[38]\tvalidation_0-auc:0.75932\tvalidation_1-auc:0.74900\n",
      "[39]\tvalidation_0-auc:0.75999\tvalidation_1-auc:0.74941\n",
      "[40]\tvalidation_0-auc:0.76053\tvalidation_1-auc:0.74986\n",
      "[41]\tvalidation_0-auc:0.76118\tvalidation_1-auc:0.75030\n",
      "[42]\tvalidation_0-auc:0.76153\tvalidation_1-auc:0.75070\n",
      "[43]\tvalidation_0-auc:0.76206\tvalidation_1-auc:0.75102\n",
      "[44]\tvalidation_0-auc:0.76262\tvalidation_1-auc:0.75145\n",
      "[45]\tvalidation_0-auc:0.76290\tvalidation_1-auc:0.75154\n",
      "[46]\tvalidation_0-auc:0.76373\tvalidation_1-auc:0.75209\n",
      "[47]\tvalidation_0-auc:0.76419\tvalidation_1-auc:0.75221\n",
      "[48]\tvalidation_0-auc:0.76476\tvalidation_1-auc:0.75251\n",
      "[49]\tvalidation_0-auc:0.76540\tvalidation_1-auc:0.75285\n",
      "[50]\tvalidation_0-auc:0.76578\tvalidation_1-auc:0.75296\n",
      "[51]\tvalidation_0-auc:0.76619\tvalidation_1-auc:0.75318\n",
      "[52]\tvalidation_0-auc:0.76634\tvalidation_1-auc:0.75325\n",
      "[53]\tvalidation_0-auc:0.76672\tvalidation_1-auc:0.75345\n",
      "[54]\tvalidation_0-auc:0.76721\tvalidation_1-auc:0.75365\n",
      "[55]\tvalidation_0-auc:0.76756\tvalidation_1-auc:0.75385\n",
      "[56]\tvalidation_0-auc:0.76786\tvalidation_1-auc:0.75413\n",
      "[57]\tvalidation_0-auc:0.76837\tvalidation_1-auc:0.75442\n",
      "[58]\tvalidation_0-auc:0.76898\tvalidation_1-auc:0.75503\n",
      "[59]\tvalidation_0-auc:0.76923\tvalidation_1-auc:0.75506\n",
      "[60]\tvalidation_0-auc:0.76957\tvalidation_1-auc:0.75518\n",
      "[61]\tvalidation_0-auc:0.76995\tvalidation_1-auc:0.75535\n",
      "[62]\tvalidation_0-auc:0.77022\tvalidation_1-auc:0.75543\n",
      "[63]\tvalidation_0-auc:0.77040\tvalidation_1-auc:0.75556\n",
      "[64]\tvalidation_0-auc:0.77080\tvalidation_1-auc:0.75568\n",
      "[65]\tvalidation_0-auc:0.77126\tvalidation_1-auc:0.75591\n",
      "[66]\tvalidation_0-auc:0.77159\tvalidation_1-auc:0.75601\n",
      "[67]\tvalidation_0-auc:0.77194\tvalidation_1-auc:0.75630\n",
      "[68]\tvalidation_0-auc:0.77214\tvalidation_1-auc:0.75638\n",
      "[69]\tvalidation_0-auc:0.77274\tvalidation_1-auc:0.75688\n",
      "[70]\tvalidation_0-auc:0.77303\tvalidation_1-auc:0.75693\n",
      "[71]\tvalidation_0-auc:0.77329\tvalidation_1-auc:0.75716\n",
      "[72]\tvalidation_0-auc:0.77350\tvalidation_1-auc:0.75724\n",
      "[73]\tvalidation_0-auc:0.77381\tvalidation_1-auc:0.75736\n",
      "[74]\tvalidation_0-auc:0.77425\tvalidation_1-auc:0.75749\n",
      "[75]\tvalidation_0-auc:0.77447\tvalidation_1-auc:0.75760\n",
      "[76]\tvalidation_0-auc:0.77467\tvalidation_1-auc:0.75777\n",
      "[77]\tvalidation_0-auc:0.77497\tvalidation_1-auc:0.75789\n",
      "[78]\tvalidation_0-auc:0.77517\tvalidation_1-auc:0.75796\n",
      "[79]\tvalidation_0-auc:0.77538\tvalidation_1-auc:0.75807\n",
      "[80]\tvalidation_0-auc:0.77557\tvalidation_1-auc:0.75803\n",
      "[81]\tvalidation_0-auc:0.77601\tvalidation_1-auc:0.75841\n",
      "[82]\tvalidation_0-auc:0.77642\tvalidation_1-auc:0.75868\n",
      "[83]\tvalidation_0-auc:0.77706\tvalidation_1-auc:0.75916\n",
      "[84]\tvalidation_0-auc:0.77724\tvalidation_1-auc:0.75914\n",
      "[85]\tvalidation_0-auc:0.77739\tvalidation_1-auc:0.75918\n",
      "[86]\tvalidation_0-auc:0.77760\tvalidation_1-auc:0.75915\n",
      "[87]\tvalidation_0-auc:0.77778\tvalidation_1-auc:0.75920\n",
      "[88]\tvalidation_0-auc:0.77834\tvalidation_1-auc:0.75962\n",
      "[89]\tvalidation_0-auc:0.77856\tvalidation_1-auc:0.75966\n",
      "[90]\tvalidation_0-auc:0.77888\tvalidation_1-auc:0.75987\n",
      "[91]\tvalidation_0-auc:0.77914\tvalidation_1-auc:0.75997\n",
      "[92]\tvalidation_0-auc:0.77952\tvalidation_1-auc:0.76010\n",
      "[93]\tvalidation_0-auc:0.77974\tvalidation_1-auc:0.76011\n",
      "[94]\tvalidation_0-auc:0.77993\tvalidation_1-auc:0.76017\n",
      "[95]\tvalidation_0-auc:0.78009\tvalidation_1-auc:0.76019\n",
      "[96]\tvalidation_0-auc:0.78025\tvalidation_1-auc:0.76026\n",
      "[97]\tvalidation_0-auc:0.78039\tvalidation_1-auc:0.76027\n",
      "[98]\tvalidation_0-auc:0.78067\tvalidation_1-auc:0.76048\n",
      "[99]\tvalidation_0-auc:0.78111\tvalidation_1-auc:0.76056\n",
      "[100]\tvalidation_0-auc:0.78134\tvalidation_1-auc:0.76050\n",
      "[101]\tvalidation_0-auc:0.78152\tvalidation_1-auc:0.76062\n",
      "[102]\tvalidation_0-auc:0.78175\tvalidation_1-auc:0.76072\n",
      "[103]\tvalidation_0-auc:0.78189\tvalidation_1-auc:0.76071\n",
      "[104]\tvalidation_0-auc:0.78220\tvalidation_1-auc:0.76089\n",
      "[105]\tvalidation_0-auc:0.78250\tvalidation_1-auc:0.76111\n",
      "[106]\tvalidation_0-auc:0.78271\tvalidation_1-auc:0.76115\n",
      "[107]\tvalidation_0-auc:0.78300\tvalidation_1-auc:0.76124\n",
      "[108]\tvalidation_0-auc:0.78319\tvalidation_1-auc:0.76125\n",
      "[109]\tvalidation_0-auc:0.78342\tvalidation_1-auc:0.76135\n",
      "[110]\tvalidation_0-auc:0.78363\tvalidation_1-auc:0.76139\n",
      "[111]\tvalidation_0-auc:0.78388\tvalidation_1-auc:0.76141\n",
      "[112]\tvalidation_0-auc:0.78404\tvalidation_1-auc:0.76145\n",
      "[113]\tvalidation_0-auc:0.78418\tvalidation_1-auc:0.76146\n",
      "[114]\tvalidation_0-auc:0.78448\tvalidation_1-auc:0.76164\n",
      "[115]\tvalidation_0-auc:0.78467\tvalidation_1-auc:0.76164\n",
      "[116]\tvalidation_0-auc:0.78481\tvalidation_1-auc:0.76166\n",
      "[117]\tvalidation_0-auc:0.78490\tvalidation_1-auc:0.76169\n",
      "[118]\tvalidation_0-auc:0.78511\tvalidation_1-auc:0.76167\n",
      "[119]\tvalidation_0-auc:0.78524\tvalidation_1-auc:0.76164\n",
      "[120]\tvalidation_0-auc:0.78539\tvalidation_1-auc:0.76177\n",
      "[121]\tvalidation_0-auc:0.78556\tvalidation_1-auc:0.76188\n",
      "[122]\tvalidation_0-auc:0.78563\tvalidation_1-auc:0.76190\n",
      "[123]\tvalidation_0-auc:0.78582\tvalidation_1-auc:0.76198\n",
      "[124]\tvalidation_0-auc:0.78611\tvalidation_1-auc:0.76216\n",
      "[125]\tvalidation_0-auc:0.78631\tvalidation_1-auc:0.76218\n",
      "[126]\tvalidation_0-auc:0.78650\tvalidation_1-auc:0.76222\n",
      "[127]\tvalidation_0-auc:0.78663\tvalidation_1-auc:0.76223\n",
      "[128]\tvalidation_0-auc:0.78694\tvalidation_1-auc:0.76246\n",
      "[129]\tvalidation_0-auc:0.78727\tvalidation_1-auc:0.76268\n",
      "[130]\tvalidation_0-auc:0.78742\tvalidation_1-auc:0.76266\n",
      "[131]\tvalidation_0-auc:0.78762\tvalidation_1-auc:0.76264\n",
      "[132]\tvalidation_0-auc:0.78778\tvalidation_1-auc:0.76266\n",
      "[133]\tvalidation_0-auc:0.78796\tvalidation_1-auc:0.76264\n",
      "[134]\tvalidation_0-auc:0.78831\tvalidation_1-auc:0.76287\n",
      "[135]\tvalidation_0-auc:0.78851\tvalidation_1-auc:0.76297\n",
      "[136]\tvalidation_0-auc:0.78866\tvalidation_1-auc:0.76296\n",
      "[137]\tvalidation_0-auc:0.78881\tvalidation_1-auc:0.76299\n",
      "[138]\tvalidation_0-auc:0.78898\tvalidation_1-auc:0.76299\n",
      "[139]\tvalidation_0-auc:0.78908\tvalidation_1-auc:0.76299\n",
      "[140]\tvalidation_0-auc:0.78931\tvalidation_1-auc:0.76293\n",
      "[141]\tvalidation_0-auc:0.78941\tvalidation_1-auc:0.76296\n",
      "[142]\tvalidation_0-auc:0.78963\tvalidation_1-auc:0.76303\n",
      "[143]\tvalidation_0-auc:0.78989\tvalidation_1-auc:0.76306\n",
      "[144]\tvalidation_0-auc:0.78997\tvalidation_1-auc:0.76312\n",
      "[145]\tvalidation_0-auc:0.79004\tvalidation_1-auc:0.76317\n"
     ]
    },
    {
     "name": "stdout",
     "output_type": "stream",
     "text": [
      "[146]\tvalidation_0-auc:0.79011\tvalidation_1-auc:0.76322\n",
      "[147]\tvalidation_0-auc:0.79023\tvalidation_1-auc:0.76320\n",
      "[148]\tvalidation_0-auc:0.79036\tvalidation_1-auc:0.76318\n",
      "[149]\tvalidation_0-auc:0.79048\tvalidation_1-auc:0.76315\n",
      "[150]\tvalidation_0-auc:0.79066\tvalidation_1-auc:0.76319\n",
      "[151]\tvalidation_0-auc:0.79090\tvalidation_1-auc:0.76320\n",
      "[152]\tvalidation_0-auc:0.79110\tvalidation_1-auc:0.76319\n",
      "[153]\tvalidation_0-auc:0.79116\tvalidation_1-auc:0.76318\n",
      "[154]\tvalidation_0-auc:0.79137\tvalidation_1-auc:0.76314\n",
      "[155]\tvalidation_0-auc:0.79168\tvalidation_1-auc:0.76318\n",
      "[156]\tvalidation_0-auc:0.79200\tvalidation_1-auc:0.76331\n",
      "[157]\tvalidation_0-auc:0.79215\tvalidation_1-auc:0.76327\n",
      "[158]\tvalidation_0-auc:0.79220\tvalidation_1-auc:0.76321\n",
      "[159]\tvalidation_0-auc:0.79235\tvalidation_1-auc:0.76320\n",
      "[160]\tvalidation_0-auc:0.79247\tvalidation_1-auc:0.76320\n",
      "[161]\tvalidation_0-auc:0.79275\tvalidation_1-auc:0.76321\n",
      "[162]\tvalidation_0-auc:0.79297\tvalidation_1-auc:0.76328\n",
      "[163]\tvalidation_0-auc:0.79308\tvalidation_1-auc:0.76326\n",
      "[164]\tvalidation_0-auc:0.79326\tvalidation_1-auc:0.76323\n",
      "[165]\tvalidation_0-auc:0.79338\tvalidation_1-auc:0.76325\n",
      "[166]\tvalidation_0-auc:0.79351\tvalidation_1-auc:0.76326\n",
      "[167]\tvalidation_0-auc:0.79360\tvalidation_1-auc:0.76327\n",
      "[168]\tvalidation_0-auc:0.79367\tvalidation_1-auc:0.76328\n",
      "[169]\tvalidation_0-auc:0.79377\tvalidation_1-auc:0.76327\n",
      "[170]\tvalidation_0-auc:0.79392\tvalidation_1-auc:0.76327\n",
      "[171]\tvalidation_0-auc:0.79406\tvalidation_1-auc:0.76332\n",
      "[172]\tvalidation_0-auc:0.79417\tvalidation_1-auc:0.76331\n",
      "[173]\tvalidation_0-auc:0.79429\tvalidation_1-auc:0.76331\n",
      "[174]\tvalidation_0-auc:0.79440\tvalidation_1-auc:0.76334\n",
      "[175]\tvalidation_0-auc:0.79446\tvalidation_1-auc:0.76333\n",
      "[176]\tvalidation_0-auc:0.79467\tvalidation_1-auc:0.76343\n",
      "[177]\tvalidation_0-auc:0.79482\tvalidation_1-auc:0.76338\n",
      "[178]\tvalidation_0-auc:0.79492\tvalidation_1-auc:0.76331\n",
      "[179]\tvalidation_0-auc:0.79509\tvalidation_1-auc:0.76328\n",
      "[180]\tvalidation_0-auc:0.79516\tvalidation_1-auc:0.76331\n",
      "[181]\tvalidation_0-auc:0.79526\tvalidation_1-auc:0.76328\n",
      "[182]\tvalidation_0-auc:0.79538\tvalidation_1-auc:0.76326\n",
      "[183]\tvalidation_0-auc:0.79554\tvalidation_1-auc:0.76331\n",
      "[184]\tvalidation_0-auc:0.79565\tvalidation_1-auc:0.76331\n",
      "[185]\tvalidation_0-auc:0.79573\tvalidation_1-auc:0.76335\n",
      "[186]\tvalidation_0-auc:0.79590\tvalidation_1-auc:0.76337\n",
      "[187]\tvalidation_0-auc:0.79606\tvalidation_1-auc:0.76340\n",
      "[188]\tvalidation_0-auc:0.79614\tvalidation_1-auc:0.76344\n",
      "[189]\tvalidation_0-auc:0.79623\tvalidation_1-auc:0.76342\n",
      "[190]\tvalidation_0-auc:0.79642\tvalidation_1-auc:0.76346\n",
      "[191]\tvalidation_0-auc:0.79656\tvalidation_1-auc:0.76349\n",
      "[192]\tvalidation_0-auc:0.79665\tvalidation_1-auc:0.76349\n",
      "[193]\tvalidation_0-auc:0.79676\tvalidation_1-auc:0.76344\n",
      "[194]\tvalidation_0-auc:0.79699\tvalidation_1-auc:0.76348\n",
      "[195]\tvalidation_0-auc:0.79708\tvalidation_1-auc:0.76348\n",
      "[196]\tvalidation_0-auc:0.79718\tvalidation_1-auc:0.76348\n",
      "[197]\tvalidation_0-auc:0.79736\tvalidation_1-auc:0.76341\n",
      "[198]\tvalidation_0-auc:0.79746\tvalidation_1-auc:0.76343\n",
      "[199]\tvalidation_0-auc:0.79768\tvalidation_1-auc:0.76348\n",
      "[200]\tvalidation_0-auc:0.79789\tvalidation_1-auc:0.76344\n",
      "[201]\tvalidation_0-auc:0.79800\tvalidation_1-auc:0.76343\n",
      "[202]\tvalidation_0-auc:0.79815\tvalidation_1-auc:0.76343\n",
      "[203]\tvalidation_0-auc:0.79830\tvalidation_1-auc:0.76341\n",
      "[204]\tvalidation_0-auc:0.79855\tvalidation_1-auc:0.76347\n",
      "[205]\tvalidation_0-auc:0.79871\tvalidation_1-auc:0.76343\n",
      "[206]\tvalidation_0-auc:0.79878\tvalidation_1-auc:0.76340\n",
      "[207]\tvalidation_0-auc:0.79885\tvalidation_1-auc:0.76338\n",
      "[208]\tvalidation_0-auc:0.79902\tvalidation_1-auc:0.76335\n",
      "[209]\tvalidation_0-auc:0.79908\tvalidation_1-auc:0.76327\n",
      "[210]\tvalidation_0-auc:0.79926\tvalidation_1-auc:0.76332\n",
      "[211]\tvalidation_0-auc:0.79940\tvalidation_1-auc:0.76345\n",
      "[212]\tvalidation_0-auc:0.79948\tvalidation_1-auc:0.76341\n",
      "[213]\tvalidation_0-auc:0.79968\tvalidation_1-auc:0.76336\n",
      "[214]\tvalidation_0-auc:0.79980\tvalidation_1-auc:0.76343\n",
      "[215]\tvalidation_0-auc:0.79985\tvalidation_1-auc:0.76345\n",
      "[216]\tvalidation_0-auc:0.80014\tvalidation_1-auc:0.76363\n",
      "[217]\tvalidation_0-auc:0.80032\tvalidation_1-auc:0.76355\n",
      "[218]\tvalidation_0-auc:0.80049\tvalidation_1-auc:0.76355\n",
      "[219]\tvalidation_0-auc:0.80061\tvalidation_1-auc:0.76355\n",
      "[220]\tvalidation_0-auc:0.80070\tvalidation_1-auc:0.76350\n",
      "[221]\tvalidation_0-auc:0.80083\tvalidation_1-auc:0.76345\n",
      "[222]\tvalidation_0-auc:0.80107\tvalidation_1-auc:0.76359\n",
      "[223]\tvalidation_0-auc:0.80114\tvalidation_1-auc:0.76359\n",
      "[224]\tvalidation_0-auc:0.80125\tvalidation_1-auc:0.76360\n",
      "[225]\tvalidation_0-auc:0.80140\tvalidation_1-auc:0.76368\n",
      "[226]\tvalidation_0-auc:0.80148\tvalidation_1-auc:0.76371\n",
      "[227]\tvalidation_0-auc:0.80158\tvalidation_1-auc:0.76367\n",
      "[228]\tvalidation_0-auc:0.80165\tvalidation_1-auc:0.76362\n",
      "[229]\tvalidation_0-auc:0.80194\tvalidation_1-auc:0.76379\n",
      "[230]\tvalidation_0-auc:0.80218\tvalidation_1-auc:0.76396\n",
      "[231]\tvalidation_0-auc:0.80232\tvalidation_1-auc:0.76391\n",
      "[232]\tvalidation_0-auc:0.80245\tvalidation_1-auc:0.76396\n",
      "[233]\tvalidation_0-auc:0.80253\tvalidation_1-auc:0.76394\n",
      "[234]\tvalidation_0-auc:0.80268\tvalidation_1-auc:0.76386\n",
      "[235]\tvalidation_0-auc:0.80284\tvalidation_1-auc:0.76390\n",
      "[236]\tvalidation_0-auc:0.80301\tvalidation_1-auc:0.76396\n",
      "[237]\tvalidation_0-auc:0.80316\tvalidation_1-auc:0.76398\n",
      "[238]\tvalidation_0-auc:0.80346\tvalidation_1-auc:0.76414\n",
      "[239]\tvalidation_0-auc:0.80361\tvalidation_1-auc:0.76420\n",
      "[240]\tvalidation_0-auc:0.80369\tvalidation_1-auc:0.76419\n",
      "[241]\tvalidation_0-auc:0.80388\tvalidation_1-auc:0.76409\n",
      "[242]\tvalidation_0-auc:0.80407\tvalidation_1-auc:0.76410\n",
      "[243]\tvalidation_0-auc:0.80417\tvalidation_1-auc:0.76406\n",
      "[244]\tvalidation_0-auc:0.80432\tvalidation_1-auc:0.76410\n",
      "[245]\tvalidation_0-auc:0.80438\tvalidation_1-auc:0.76407\n",
      "[246]\tvalidation_0-auc:0.80458\tvalidation_1-auc:0.76408\n",
      "[247]\tvalidation_0-auc:0.80477\tvalidation_1-auc:0.76410\n",
      "[248]\tvalidation_0-auc:0.80485\tvalidation_1-auc:0.76409\n",
      "[249]\tvalidation_0-auc:0.80489\tvalidation_1-auc:0.76405\n",
      "[250]\tvalidation_0-auc:0.80506\tvalidation_1-auc:0.76405\n",
      "[251]\tvalidation_0-auc:0.80512\tvalidation_1-auc:0.76400\n",
      "[252]\tvalidation_0-auc:0.80517\tvalidation_1-auc:0.76399\n",
      "[253]\tvalidation_0-auc:0.80531\tvalidation_1-auc:0.76390\n",
      "[254]\tvalidation_0-auc:0.80542\tvalidation_1-auc:0.76390\n",
      "[255]\tvalidation_0-auc:0.80560\tvalidation_1-auc:0.76392\n",
      "[256]\tvalidation_0-auc:0.80581\tvalidation_1-auc:0.76395\n",
      "[257]\tvalidation_0-auc:0.80591\tvalidation_1-auc:0.76387\n",
      "[258]\tvalidation_0-auc:0.80610\tvalidation_1-auc:0.76402\n",
      "[259]\tvalidation_0-auc:0.80627\tvalidation_1-auc:0.76403\n",
      "[260]\tvalidation_0-auc:0.80641\tvalidation_1-auc:0.76403\n",
      "[261]\tvalidation_0-auc:0.80651\tvalidation_1-auc:0.76403\n",
      "[262]\tvalidation_0-auc:0.80670\tvalidation_1-auc:0.76404\n",
      "[263]\tvalidation_0-auc:0.80681\tvalidation_1-auc:0.76411\n",
      "[264]\tvalidation_0-auc:0.80692\tvalidation_1-auc:0.76406\n",
      "[265]\tvalidation_0-auc:0.80697\tvalidation_1-auc:0.76407\n",
      "[266]\tvalidation_0-auc:0.80710\tvalidation_1-auc:0.76401\n",
      "[267]\tvalidation_0-auc:0.80715\tvalidation_1-auc:0.76404\n",
      "[268]\tvalidation_0-auc:0.80729\tvalidation_1-auc:0.76403\n",
      "[269]\tvalidation_0-auc:0.80744\tvalidation_1-auc:0.76405\n",
      "[270]\tvalidation_0-auc:0.80766\tvalidation_1-auc:0.76404\n",
      "[271]\tvalidation_0-auc:0.80774\tvalidation_1-auc:0.76404\n",
      "[272]\tvalidation_0-auc:0.80787\tvalidation_1-auc:0.76404\n",
      "[273]\tvalidation_0-auc:0.80800\tvalidation_1-auc:0.76403\n",
      "[274]\tvalidation_0-auc:0.80807\tvalidation_1-auc:0.76401\n",
      "[275]\tvalidation_0-auc:0.80814\tvalidation_1-auc:0.76402\n",
      "[276]\tvalidation_0-auc:0.80829\tvalidation_1-auc:0.76398\n",
      "[277]\tvalidation_0-auc:0.80842\tvalidation_1-auc:0.76402\n",
      "[278]\tvalidation_0-auc:0.80861\tvalidation_1-auc:0.76406\n",
      "[279]\tvalidation_0-auc:0.80873\tvalidation_1-auc:0.76400\n",
      "[280]\tvalidation_0-auc:0.80893\tvalidation_1-auc:0.76398\n",
      "[281]\tvalidation_0-auc:0.80907\tvalidation_1-auc:0.76398\n",
      "[282]\tvalidation_0-auc:0.80924\tvalidation_1-auc:0.76393\n",
      "[283]\tvalidation_0-auc:0.80932\tvalidation_1-auc:0.76389\n",
      "[284]\tvalidation_0-auc:0.80944\tvalidation_1-auc:0.76394\n",
      "[285]\tvalidation_0-auc:0.80947\tvalidation_1-auc:0.76393\n",
      "[286]\tvalidation_0-auc:0.80965\tvalidation_1-auc:0.76400\n",
      "[287]\tvalidation_0-auc:0.80974\tvalidation_1-auc:0.76397\n",
      "[288]\tvalidation_0-auc:0.80986\tvalidation_1-auc:0.76403\n",
      "[289]\tvalidation_0-auc:0.81003\tvalidation_1-auc:0.76405\n",
      "Stopping. Best iteration:\n",
      "[239]\tvalidation_0-auc:0.80361\tvalidation_1-auc:0.76420\n",
      "\n",
      "The best number of tree:  240\n",
      "F1 score on the test set:  0.21441463716157746\n"
     ]
    },
    {
     "name": "stdout",
     "output_type": "stream",
     "text": [
      "ROC AUC score on the test set:  0.7641977308840873\n"
     ]
    }
   ],
   "source": [
    "gbm = xgb.XGBClassifier( \n",
    "                        n_estimators=30000,\n",
    "                        max_depth=4,\n",
    "                        objective='binary:logistic', #new objective\n",
    "                        learning_rate=.1, \n",
    "                        subsample=.8,\n",
    "                        min_child_weight=3,\n",
    "                        colsample_bytree=.8,\n",
    "                        gamma=0.382,\n",
    "                        scale_pos_weight=6\n",
    "                       )\n",
    "\n",
    "eval_set=[(X_train,y_train),(X_test,y_test)]\n",
    "fit_model = gbm.fit( \n",
    "                    X_train, y_train, \n",
    "                    eval_set=eval_set,\n",
    "                    eval_metric='auc', #new evaluation metric: classification error (could also use AUC, e.g.)\n",
    "                    early_stopping_rounds=50,\n",
    "                    verbose=True\n",
    "                   )\n",
    "\n",
    "print('The best number of tree: ', gbm.best_ntree_limit)\n",
    "print('F1 score on the test set: ', f1_score(y_test, gbm.predict(X_test, ntree_limit=gbm.best_ntree_limit)))\n",
    "print('ROC AUC score on the test set: ', roc_auc_score(y_test, gbm.predict_proba(X_test, ntree_limit=gbm.best_ntree_limit)[:, 1]))"
   ]
  },
  {
   "cell_type": "code",
   "execution_count": null,
   "id": "distinct-mother",
   "metadata": {},
   "outputs": [],
   "source": []
  },
  {
   "cell_type": "code",
   "execution_count": null,
   "id": "optimum-invasion",
   "metadata": {},
   "outputs": [],
   "source": []
  },
  {
   "cell_type": "code",
   "execution_count": 57,
   "id": "increased-method",
   "metadata": {
    "ExecuteTime": {
     "end_time": "2021-05-13T16:13:55.117226Z",
     "start_time": "2021-05-13T16:13:55.104261Z"
    }
   },
   "outputs": [
    {
     "data": {
      "text/plain": [
       "(array([0.00000000e+00, 0.00000000e+00, 1.76887835e-05, ...,\n",
       "        9.99752357e-01, 9.99752357e-01, 1.00000000e+00]),\n",
       " array([0.00000000e+00, 3.77339505e-05, 3.77339505e-05, ...,\n",
       "        9.99962266e-01, 1.00000000e+00, 1.00000000e+00]),\n",
       " array([  64.8733697 ,   63.8733697 ,   14.40000311, ...,   -7.7180821 ,\n",
       "          -7.72593339, -134.02098886]))"
      ]
     },
     "execution_count": 57,
     "metadata": {},
     "output_type": "execute_result"
    }
   ],
   "source": [
    "fpr, tpr, thresholds"
   ]
  },
  {
   "cell_type": "code",
   "execution_count": 58,
   "id": "clinical-london",
   "metadata": {
    "ExecuteTime": {
     "end_time": "2021-05-13T16:13:55.133184Z",
     "start_time": "2021-05-13T16:13:55.119221Z"
    },
    "scrolled": true
   },
   "outputs": [
    {
     "data": {
      "text/plain": [
       "(array([0.00000000e+00, 0.00000000e+00, 0.00000000e+00, 0.00000000e+00,\n",
       "        0.00000000e+00, 0.00000000e+00, 0.00000000e+00, 0.00000000e+00,\n",
       "        0.00000000e+00, 0.00000000e+00, 0.00000000e+00, 0.00000000e+00,\n",
       "        0.00000000e+00, 0.00000000e+00, 0.00000000e+00, 0.00000000e+00,\n",
       "        0.00000000e+00, 0.00000000e+00, 0.00000000e+00, 0.00000000e+00,\n",
       "        0.00000000e+00, 0.00000000e+00, 0.00000000e+00, 0.00000000e+00,\n",
       "        0.00000000e+00, 0.00000000e+00, 0.00000000e+00, 0.00000000e+00,\n",
       "        0.00000000e+00, 0.00000000e+00, 0.00000000e+00, 4.42219589e-06,\n",
       "        2.21109794e-05, 3.53775671e-05, 5.74885465e-05, 6.19107424e-05,\n",
       "        8.84439177e-05, 1.23821485e-04, 1.68043444e-04, 2.21109794e-04,\n",
       "        2.78598341e-04, 3.53775671e-04, 4.95285939e-04, 6.45640599e-04,\n",
       "        7.69462084e-04, 9.41927724e-04, 1.14977093e-03, 1.42394708e-03,\n",
       "        1.83521129e-03, 2.21109794e-03, 2.59582898e-03, 3.13091469e-03,\n",
       "        3.76328870e-03, 4.49295102e-03, 5.38623459e-03, 6.32816231e-03,\n",
       "        7.55311057e-03, 8.80459201e-03, 1.02285391e-02, 1.19974174e-02,\n",
       "        1.40139388e-02, 1.63002140e-02, 1.88827764e-02, 2.17881591e-02,\n",
       "        2.52153609e-02, 2.90892045e-02, 3.36529107e-02, 3.89772345e-02,\n",
       "        4.49339324e-02, 5.16247148e-02, 5.94122017e-02, 6.81814162e-02,\n",
       "        7.80075354e-02, 8.88153822e-02, 1.01255019e-01, 1.15145136e-01,\n",
       "        1.30322113e-01, 1.47679232e-01, 1.67282826e-01, 1.88540322e-01,\n",
       "        2.12601489e-01, 2.38506713e-01, 2.67432296e-01, 2.99130596e-01,\n",
       "        3.33491058e-01, 3.71964163e-01, 4.13148073e-01, 4.58143916e-01,\n",
       "        5.04913060e-01, 5.54512409e-01, 6.08060779e-01, 6.63316116e-01,\n",
       "        7.19093273e-01, 7.74184989e-01, 8.27574160e-01, 8.76408469e-01,\n",
       "        9.18459130e-01, 9.52191640e-01, 9.76407585e-01, 9.91142342e-01,\n",
       "        9.98014434e-01, 1.00000000e+00]),\n",
       " array([0.        , 0.11199437, 0.21026615, 0.29307959, 0.36262326,\n",
       "        0.42166432, 0.47065556, 0.51070386, 0.54545683, 0.580323  ,\n",
       "        0.6143716 , 0.64863403, 0.682016  , 0.71242956, 0.73582461,\n",
       "        0.75510666, 0.76887955, 0.77897967, 0.78680318, 0.79340662,\n",
       "        0.79979624, 0.80579593, 0.81199688, 0.81964429, 0.82759358,\n",
       "        0.83732894, 0.8474039 , 0.85979322, 0.87210706, 0.88399326,\n",
       "        0.89575367, 0.90781596, 0.91996629, 0.93069531, 0.94017911,\n",
       "        0.94855605, 0.95567519, 0.96207738, 0.9666935 , 0.97011471,\n",
       "        0.97268062, 0.97430318, 0.97572449, 0.97627792, 0.9770326 ,\n",
       "        0.97738479, 0.97763635, 0.97779986, 0.97797595, 0.97813946,\n",
       "        0.97822751, 0.97831556, 0.97839102, 0.9785168 , 0.97866774,\n",
       "        0.9788061 , 0.97890672, 0.9790325 , 0.97908281, 0.97929664,\n",
       "        0.97944757, 0.97967398, 0.97983749, 0.98008905, 0.98032803,\n",
       "        0.98065506, 0.98101982, 0.98134685, 0.98169903, 0.98225247,\n",
       "        0.98273043, 0.98338448, 0.98393792, 0.98437814, 0.98489384,\n",
       "        0.98548501, 0.98602586, 0.98667992, 0.98740944, 0.98835279,\n",
       "        0.98918293, 0.98969863, 0.99037784, 0.99129604, 0.99206329,\n",
       "        0.99279282, 0.99384937, 0.99456631, 0.99523294, 0.99593731,\n",
       "        0.99666683, 0.99740894, 0.99794979, 0.99837744, 0.99884283,\n",
       "        0.99920759, 0.99952204, 0.99964782, 0.99983649, 0.99996227,\n",
       "        0.99998742, 1.        ]),\n",
       " array([2.  , 1.  , 0.99, 0.98, 0.97, 0.96, 0.95, 0.94, 0.93, 0.92, 0.91,\n",
       "        0.9 , 0.89, 0.88, 0.87, 0.86, 0.85, 0.84, 0.83, 0.82, 0.81, 0.8 ,\n",
       "        0.79, 0.78, 0.77, 0.76, 0.75, 0.74, 0.73, 0.72, 0.71, 0.7 , 0.69,\n",
       "        0.68, 0.67, 0.66, 0.65, 0.64, 0.63, 0.62, 0.61, 0.6 , 0.59, 0.58,\n",
       "        0.57, 0.56, 0.55, 0.54, 0.53, 0.52, 0.51, 0.5 , 0.49, 0.48, 0.47,\n",
       "        0.46, 0.45, 0.44, 0.43, 0.42, 0.41, 0.4 , 0.39, 0.38, 0.37, 0.36,\n",
       "        0.35, 0.34, 0.33, 0.32, 0.31, 0.3 , 0.29, 0.28, 0.27, 0.26, 0.25,\n",
       "        0.24, 0.23, 0.22, 0.21, 0.2 , 0.19, 0.18, 0.17, 0.16, 0.15, 0.14,\n",
       "        0.13, 0.12, 0.11, 0.1 , 0.09, 0.08, 0.07, 0.06, 0.05, 0.04, 0.03,\n",
       "        0.02, 0.01, 0.  ]))"
      ]
     },
     "execution_count": 58,
     "metadata": {},
     "output_type": "execute_result"
    }
   ],
   "source": [
    "fpr_forest, tpr_forest, thresholds_forest"
   ]
  },
  {
   "cell_type": "code",
   "execution_count": 59,
   "id": "sexual-compensation",
   "metadata": {
    "ExecuteTime": {
     "end_time": "2021-05-13T16:13:55.181058Z",
     "start_time": "2021-05-13T16:13:55.135178Z"
    }
   },
   "outputs": [],
   "source": [
    "fpr_sgd, tpr_sgd, thresholds_sgd = roc_curve(y_test, sgd_clf.decision_function(X_test))"
   ]
  },
  {
   "cell_type": "code",
   "execution_count": 60,
   "id": "cultural-apparel",
   "metadata": {
    "ExecuteTime": {
     "end_time": "2021-05-13T16:13:57.194087Z",
     "start_time": "2021-05-13T16:13:55.182055Z"
    }
   },
   "outputs": [],
   "source": [
    "#y_scores_forest = y_probas_forest[:, 1] # score = proba of positive class\n",
    "fpr_forest, tpr_forest, thresholds_forest = roc_curve(y_test, forest_clf.predict_proba(X_test)[:, 1])"
   ]
  },
  {
   "cell_type": "code",
   "execution_count": 61,
   "id": "clean-shelf",
   "metadata": {
    "ExecuteTime": {
     "end_time": "2021-05-13T16:14:05.019023Z",
     "start_time": "2021-05-13T16:13:57.196085Z"
    }
   },
   "outputs": [],
   "source": [
    "fpr_ada, tpr_ada, thresholds_ada = roc_curve(y_test, ada_clf.predict_proba(X_test)[:, 1])"
   ]
  },
  {
   "cell_type": "code",
   "execution_count": 62,
   "id": "valuable-being",
   "metadata": {
    "ExecuteTime": {
     "end_time": "2021-05-13T16:14:05.344036Z",
     "start_time": "2021-05-13T16:14:05.020925Z"
    }
   },
   "outputs": [],
   "source": [
    "fpr_xgb, tpr_xgb, thresholds_xgb = roc_curve(y_test, gbm.predict_proba(X_test, ntree_limit=gbm.best_ntree_limit)[:, 1])"
   ]
  },
  {
   "cell_type": "code",
   "execution_count": null,
   "id": "simple-google",
   "metadata": {},
   "outputs": [],
   "source": []
  },
  {
   "cell_type": "code",
   "execution_count": null,
   "id": "mobile-celtic",
   "metadata": {},
   "outputs": [],
   "source": []
  },
  {
   "cell_type": "markdown",
   "id": "seasonal-webcam",
   "metadata": {},
   "source": [
    "### LightGBM"
   ]
  },
  {
   "cell_type": "code",
   "execution_count": 63,
   "id": "working-supervision",
   "metadata": {
    "ExecuteTime": {
     "end_time": "2021-05-13T16:14:05.389913Z",
     "start_time": "2021-05-13T16:14:05.346032Z"
    }
   },
   "outputs": [
    {
     "data": {
      "text/plain": [
       "'3.2.1'"
      ]
     },
     "execution_count": 63,
     "metadata": {},
     "output_type": "execute_result"
    }
   ],
   "source": [
    "# Modeling\n",
    "import lightgbm as lgb\n",
    "\n",
    "N_FOLDS = 5\n",
    "MAX_EVALS = 5\n",
    "\n",
    "lgb.__version__"
   ]
  },
  {
   "cell_type": "code",
   "execution_count": 64,
   "id": "adolescent-priority",
   "metadata": {
    "ExecuteTime": {
     "end_time": "2021-05-13T16:14:05.404873Z",
     "start_time": "2021-05-13T16:14:05.391908Z"
    }
   },
   "outputs": [
    {
     "name": "stdout",
     "output_type": "stream",
     "text": [
      "X_train shape:  (305636, 250)\n",
      "X_test shape:  (61503, 250)\n"
     ]
    }
   ],
   "source": [
    "print('X_train shape: ', X_train.shape)\n",
    "print('X_test shape: ', X_test.shape)"
   ]
  },
  {
   "cell_type": "code",
   "execution_count": 65,
   "id": "collected-keeping",
   "metadata": {
    "ExecuteTime": {
     "end_time": "2021-05-13T16:14:05.419835Z",
     "start_time": "2021-05-13T16:14:05.406868Z"
    }
   },
   "outputs": [
    {
     "data": {
      "text/plain": [
       "lightgbm.basic.Dataset"
      ]
     },
     "execution_count": 65,
     "metadata": {},
     "output_type": "execute_result"
    }
   ],
   "source": [
    "#lgb requires reshaping the dataframe\n",
    "y_train_lgb = np.array(y_train.astype(np.int32)).reshape((-1, ))\n",
    "y_test_lgb = np.array(y_test.astype(np.int32)).reshape((-1, ))\n",
    "\n",
    "#Crete lgb dataset\n",
    "train_set_lgb = lgb.Dataset(data=X_train, label=y_train_lgb, free_raw_data=False)\n",
    "\n",
    "type(train_set_lgb)"
   ]
  },
  {
   "cell_type": "code",
   "execution_count": 66,
   "id": "mediterranean-shark",
   "metadata": {
    "ExecuteTime": {
     "end_time": "2021-05-13T16:14:05.434797Z",
     "start_time": "2021-05-13T16:14:05.424837Z"
    }
   },
   "outputs": [
    {
     "data": {
      "text/plain": [
       "{'subsample_for_bin': 60000,\n",
       " 'learning_rate': 0.2849218529734569,\n",
       " 'num_leaves': 100,\n",
       " 'metric': 'auc',\n",
       " 'boosting_type': 'dart',\n",
       " 'verbose': 1,\n",
       " 'colsample_bytree': 0.8222222222222222,\n",
       " 'subsample': 0.5,\n",
       " 'reg_alpha': 0.836734693877551,\n",
       " 'min_child_samples': 485,\n",
       " 'is_unbalance': False,\n",
       " 'reg_lambda': 0.7755102040816326}"
      ]
     },
     "execution_count": 66,
     "metadata": {},
     "output_type": "execute_result"
    }
   ],
   "source": [
    "#Define the hyperparameters with the params that were found using the `lightgbm_params_search` notebook. \n",
    "#Oh boy it took forever\n",
    "\n",
    "hyperparameters = {'subsample_for_bin': 60000,\n",
    " 'learning_rate': 0.2849218529734569,\n",
    " 'num_leaves': 100,\n",
    " 'metric': 'auc',\n",
    " 'boosting_type': 'dart',\n",
    " 'verbose': 1,\n",
    " 'colsample_bytree': 0.8222222222222222,\n",
    " 'subsample': 0.5,\n",
    " 'reg_alpha': 0.836734693877551,\n",
    " 'min_child_samples': 485,\n",
    " 'is_unbalance': False,\n",
    " 'reg_lambda': 0.7755102040816326}\n",
    "\n",
    "hyperparameters"
   ]
  },
  {
   "cell_type": "code",
   "execution_count": 67,
   "id": "minor-might",
   "metadata": {
    "ExecuteTime": {
     "end_time": "2021-05-13T16:22:03.109531Z",
     "start_time": "2021-05-13T16:14:05.437787Z"
    }
   },
   "outputs": [
    {
     "name": "stdout",
     "output_type": "stream",
     "text": [
      "[LightGBM] [Warning] Using too small ``bin_construct_sample_cnt`` may encounter unexpected errors and poor accuracy.\n",
      "[LightGBM] [Warning] Auto-choosing row-wise multi-threading, the overhead of testing was 0.050017 seconds.\n",
      "You can set `force_row_wise=true` to remove the overhead.\n",
      "And if memory is not enough, you can set `force_col_wise=true`.\n",
      "[LightGBM] [Info] Total Bins 12118\n",
      "[LightGBM] [Info] Number of data points in the train set: 244508, number of used features: 213\n",
      "[LightGBM] [Warning] Auto-choosing col-wise multi-threading, the overhead of testing was 0.114438 seconds.\n",
      "You can set `force_col_wise=true` to remove the overhead.\n",
      "[LightGBM] [Info] Total Bins 12118\n",
      "[LightGBM] [Info] Number of data points in the train set: 244509, number of used features: 213\n",
      "[LightGBM] [Warning] Auto-choosing row-wise multi-threading, the overhead of testing was 0.050351 seconds.\n",
      "You can set `force_row_wise=true` to remove the overhead.\n",
      "And if memory is not enough, you can set `force_col_wise=true`.\n",
      "[LightGBM] [Info] Total Bins 12118\n",
      "[LightGBM] [Info] Number of data points in the train set: 244509, number of used features: 213\n",
      "[LightGBM] [Warning] Auto-choosing col-wise multi-threading, the overhead of testing was 0.107667 seconds.\n",
      "You can set `force_col_wise=true` to remove the overhead.\n",
      "[LightGBM] [Info] Total Bins 12118\n",
      "[LightGBM] [Info] Number of data points in the train set: 244509, number of used features: 213\n",
      "[LightGBM] [Warning] Auto-choosing col-wise multi-threading, the overhead of testing was 0.103690 seconds.\n",
      "You can set `force_col_wise=true` to remove the overhead.\n",
      "[LightGBM] [Info] Total Bins 12118\n",
      "[LightGBM] [Info] Number of data points in the train set: 244509, number of used features: 213\n",
      "[LightGBM] [Info] Start training from score 0.260126\n",
      "[LightGBM] [Info] Start training from score 0.260129\n",
      "[LightGBM] [Info] Start training from score 0.260125\n",
      "[LightGBM] [Info] Start training from score 0.260125\n",
      "[LightGBM] [Info] Start training from score 0.260125\n",
      "The cross validation score on the full dataset = 0.93212 with std: 0.00087.\n",
      "Number of estimators = 600.\n"
     ]
    }
   ],
   "source": [
    "#Cross val with early stopping\n",
    "cv_results = lgb.cv(hyperparameters, train_set=train_set_lgb, \n",
    "                    num_boost_round=600, metrics='auc', nfold = N_FOLDS, seed=12)\n",
    "print('The cross validation score on the full dataset = {:.5f} with std: {:.5f}.'.format(\n",
    "    cv_results['auc-mean'][-1], cv_results['auc-stdv'][-1]))\n",
    "print('Number of estimators = {}.'.format(len(cv_results['auc-mean'])))"
   ]
  },
  {
   "cell_type": "code",
   "execution_count": 68,
   "id": "further-stress",
   "metadata": {
    "ExecuteTime": {
     "end_time": "2021-05-13T16:23:46.665443Z",
     "start_time": "2021-05-13T16:22:03.110527Z"
    }
   },
   "outputs": [
    {
     "name": "stdout",
     "output_type": "stream",
     "text": [
      "[LightGBM] [Warning] Using too small ``bin_construct_sample_cnt`` may encounter unexpected errors and poor accuracy.\n",
      "[LightGBM] [Info] Number of positive: 79504, number of negative: 226132\n",
      "[LightGBM] [Warning] Auto-choosing row-wise multi-threading, the overhead of testing was 0.069845 seconds.\n",
      "You can set `force_row_wise=true` to remove the overhead.\n",
      "And if memory is not enough, you can set `force_col_wise=true`.\n",
      "[LightGBM] [Info] Total Bins 12118\n",
      "[LightGBM] [Info] Number of data points in the train set: 305636, number of used features: 213\n",
      "[LightGBM] [Info] [binary:BoostFromScore]: pavg=0.260126 -> initscore=-1.045312\n",
      "[LightGBM] [Info] Start training from score -1.045312\n",
      "0.7507430156875514\n",
      "0.24858621104560222\n"
     ]
    }
   ],
   "source": [
    "model = lgb.LGBMClassifier(n_estimators = len(cv_results['auc-mean']), **hyperparameters)\n",
    "import re\n",
    "#X_train = X_train.rename(columns = lambda x:re.sub('[^A-Za-z0-9_]+', '', x))\n",
    "model.fit(X_train, y_train_lgb)\n",
    "\n",
    "preds = model.predict_proba(X_test)[:, 1]\n",
    "preds_hard = model.predict(X_test)\n",
    "\n",
    "#Test sets\n",
    "\n",
    "print(roc_auc_score(y_test, preds))\n",
    "print(f1_score(y_test, preds_hard))"
   ]
  },
  {
   "cell_type": "code",
   "execution_count": 69,
   "id": "electoral-florida",
   "metadata": {
    "ExecuteTime": {
     "end_time": "2021-05-13T16:23:46.697277Z",
     "start_time": "2021-05-13T16:23:46.667454Z"
    }
   },
   "outputs": [],
   "source": [
    "fpr_lgb, tpr_lgb, thresholds_lgb = roc_curve(y_test, preds)"
   ]
  },
  {
   "cell_type": "markdown",
   "id": "accessible-jacket",
   "metadata": {},
   "source": [
    "### Extra: Multi-layer Perceptron classifier"
   ]
  },
  {
   "cell_type": "code",
   "execution_count": 70,
   "id": "commercial-consultation",
   "metadata": {
    "ExecuteTime": {
     "end_time": "2021-05-13T16:23:46.713193Z",
     "start_time": "2021-05-13T16:23:46.698228Z"
    }
   },
   "outputs": [],
   "source": [
    "from sklearn.neural_network import MLPClassifier"
   ]
  },
  {
   "cell_type": "code",
   "execution_count": 71,
   "id": "toxic-vacuum",
   "metadata": {
    "ExecuteTime": {
     "end_time": "2021-05-13T16:28:10.008887Z",
     "start_time": "2021-05-13T16:23:46.715187Z"
    }
   },
   "outputs": [
    {
     "name": "stdout",
     "output_type": "stream",
     "text": [
      "0.6690204688022947\n",
      "0.22128487994808566\n"
     ]
    }
   ],
   "source": [
    "mlp_clf = MLPClassifier(random_state=42, max_iter=300, solver='lbfgs').fit(X_train, y_train)\n",
    "fpr_mlp, tpr_mlp, thresholds_mlp = roc_curve(y_test, mlp_clf.predict_proba(X_test)[:, 1])\n",
    "\n",
    "#Test sets\n",
    "print(roc_auc_score(y_test, mlp_clf.predict_proba(X_test)[:,1]))\n",
    "print(f1_score(y_test, mlp_clf.predict(X_test)))"
   ]
  },
  {
   "cell_type": "code",
   "execution_count": null,
   "id": "central-report",
   "metadata": {},
   "outputs": [],
   "source": []
  },
  {
   "cell_type": "markdown",
   "id": "medical-summary",
   "metadata": {},
   "source": [
    "### Naive Bayes"
   ]
  },
  {
   "cell_type": "code",
   "execution_count": 82,
   "id": "homeless-swift",
   "metadata": {
    "ExecuteTime": {
     "end_time": "2021-05-13T17:46:38.377178Z",
     "start_time": "2021-05-13T17:46:38.368202Z"
    }
   },
   "outputs": [],
   "source": [
    "from sklearn.naive_bayes import BernoulliNB"
   ]
  },
  {
   "cell_type": "code",
   "execution_count": 83,
   "id": "lovely-warrant",
   "metadata": {
    "ExecuteTime": {
     "end_time": "2021-05-13T17:47:16.204045Z",
     "start_time": "2021-05-13T17:47:15.122527Z"
    }
   },
   "outputs": [
    {
     "data": {
      "text/plain": [
       "0.6120677040144383"
      ]
     },
     "execution_count": 83,
     "metadata": {},
     "output_type": "execute_result"
    }
   ],
   "source": [
    "nb = BernoulliNB()\n",
    "nb.fit(X_train,y_train)\n",
    "nb.score(X_test,y_test)"
   ]
  },
  {
   "cell_type": "code",
   "execution_count": 84,
   "id": "monetary-stock",
   "metadata": {
    "ExecuteTime": {
     "end_time": "2021-05-13T17:48:22.030789Z",
     "start_time": "2021-05-13T17:48:21.844288Z"
    }
   },
   "outputs": [
    {
     "name": "stdout",
     "output_type": "stream",
     "text": [
      "F2 score for Naive Bayes:  0.33203387552090335\n"
     ]
    }
   ],
   "source": [
    "print('F2 score for Naive Bayes: ', fbeta_score(y_test, nb.predict(X_test), 2))"
   ]
  },
  {
   "cell_type": "code",
   "execution_count": 85,
   "id": "opening-strike",
   "metadata": {
    "ExecuteTime": {
     "end_time": "2021-05-13T17:49:21.838273Z",
     "start_time": "2021-05-13T17:49:21.645805Z"
    }
   },
   "outputs": [],
   "source": [
    "fpr_nb, tpr_nb, thresholds_nb = roc_curve(y_test, nb.predict_proba(X_test)[:, 1])"
   ]
  },
  {
   "cell_type": "code",
   "execution_count": 86,
   "id": "civil-facial",
   "metadata": {
    "ExecuteTime": {
     "end_time": "2021-05-13T17:49:38.032658Z",
     "start_time": "2021-05-13T17:49:37.831121Z"
    }
   },
   "outputs": [
    {
     "data": {
      "text/plain": [
       "0.6462601957585936"
      ]
     },
     "execution_count": 86,
     "metadata": {},
     "output_type": "execute_result"
    }
   ],
   "source": [
    "roc_auc_score(y_test, nb.predict_proba(X_test)[:, 1])"
   ]
  },
  {
   "cell_type": "markdown",
   "id": "functioning-affairs",
   "metadata": {},
   "source": [
    "### F2 metrics"
   ]
  },
  {
   "cell_type": "code",
   "execution_count": 72,
   "id": "military-oliver",
   "metadata": {
    "ExecuteTime": {
     "end_time": "2021-05-13T16:28:10.068727Z",
     "start_time": "2021-05-13T16:28:10.009885Z"
    }
   },
   "outputs": [
    {
     "name": "stdout",
     "output_type": "stream",
     "text": [
      "F2 score for Log_Reg 5x:  0.31947204619595787\n"
     ]
    }
   ],
   "source": [
    "print('F2 score for Log_Reg 5x: ', fbeta_score(y_test, lr_5x.predict(X_test_lr), 2))"
   ]
  },
  {
   "cell_type": "code",
   "execution_count": 73,
   "id": "representative-offer",
   "metadata": {
    "ExecuteTime": {
     "end_time": "2021-05-13T16:28:10.100643Z",
     "start_time": "2021-05-13T16:28:10.070722Z"
    }
   },
   "outputs": [
    {
     "name": "stdout",
     "output_type": "stream",
     "text": [
      "F2 score for KNN:  0.17052246677448843\n"
     ]
    }
   ],
   "source": [
    "print('F2 score for KNN: ', fbeta_score(y_test, knn_pred_hard, 2))"
   ]
  },
  {
   "cell_type": "code",
   "execution_count": 74,
   "id": "athletic-technician",
   "metadata": {
    "ExecuteTime": {
     "end_time": "2021-05-13T16:28:10.146519Z",
     "start_time": "2021-05-13T16:28:10.102637Z"
    }
   },
   "outputs": [
    {
     "name": "stdout",
     "output_type": "stream",
     "text": [
      "F2 score for SGD:  0.07838422697763886\n"
     ]
    }
   ],
   "source": [
    "print('F2 score for SGD: ', fbeta_score(y_test, sgd_clf.predict(X_test), 2))"
   ]
  },
  {
   "cell_type": "code",
   "execution_count": 75,
   "id": "noted-maria",
   "metadata": {
    "ExecuteTime": {
     "end_time": "2021-05-13T16:28:12.118963Z",
     "start_time": "2021-05-13T16:28:10.147602Z"
    }
   },
   "outputs": [
    {
     "name": "stdout",
     "output_type": "stream",
     "text": [
      "F2 score for Random Forest:  0.010572953378310341\n"
     ]
    }
   ],
   "source": [
    "print('F2 score for Random Forest: ', fbeta_score(y_test, forest_clf.predict(X_test), 2))"
   ]
  },
  {
   "cell_type": "code",
   "execution_count": 76,
   "id": "instructional-china",
   "metadata": {
    "ExecuteTime": {
     "end_time": "2021-05-13T16:28:19.830803Z",
     "start_time": "2021-05-13T16:28:12.119933Z"
    }
   },
   "outputs": [
    {
     "name": "stdout",
     "output_type": "stream",
     "text": [
      "F2 score for AdaBoost:  0.2766597552547059\n"
     ]
    }
   ],
   "source": [
    "print('F2 score for AdaBoost: ', fbeta_score(y_test, ada_clf.predict(X_test), 2))"
   ]
  },
  {
   "cell_type": "code",
   "execution_count": 77,
   "id": "pending-pleasure",
   "metadata": {
    "ExecuteTime": {
     "end_time": "2021-05-13T16:28:20.154445Z",
     "start_time": "2021-05-13T16:28:19.831800Z"
    }
   },
   "outputs": [
    {
     "name": "stdout",
     "output_type": "stream",
     "text": [
      "F2 score for XGBoost:  0.3921001229834334\n"
     ]
    }
   ],
   "source": [
    "print('F2 score for XGBoost: ', fbeta_score(y_test, gbm.predict(X_test, ntree_limit=gbm.best_ntree_limit), 2))"
   ]
  },
  {
   "cell_type": "code",
   "execution_count": 78,
   "id": "exclusive-anchor",
   "metadata": {
    "ExecuteTime": {
     "end_time": "2021-05-13T16:28:20.185362Z",
     "start_time": "2021-05-13T16:28:20.156440Z"
    }
   },
   "outputs": [
    {
     "name": "stdout",
     "output_type": "stream",
     "text": [
      "F2 score for LightGBM:  0.22303307712237674\n"
     ]
    }
   ],
   "source": [
    "print('F2 score for LightGBM: ', fbeta_score(y_test, preds_hard, 2))"
   ]
  },
  {
   "cell_type": "code",
   "execution_count": 79,
   "id": "tired-publisher",
   "metadata": {
    "ExecuteTime": {
     "end_time": "2021-05-13T16:28:20.294579Z",
     "start_time": "2021-05-13T16:28:20.187357Z"
    }
   },
   "outputs": [
    {
     "name": "stdout",
     "output_type": "stream",
     "text": [
      "F2 score for MLP:  0.25096596136154553\n"
     ]
    }
   ],
   "source": [
    "print('F2 score for MLP: ', fbeta_score(y_test, mlp_clf.predict(X_test), 2))"
   ]
  },
  {
   "cell_type": "code",
   "execution_count": 87,
   "id": "important-comedy",
   "metadata": {
    "ExecuteTime": {
     "end_time": "2021-05-13T17:50:00.257548Z",
     "start_time": "2021-05-13T17:50:00.068055Z"
    }
   },
   "outputs": [
    {
     "name": "stdout",
     "output_type": "stream",
     "text": [
      "F2 score for Naive Bayes:  0.33203387552090335\n"
     ]
    }
   ],
   "source": [
    "print('F2 score for Naive Bayes: ', fbeta_score(y_test, nb.predict(X_test), 2))"
   ]
  },
  {
   "cell_type": "code",
   "execution_count": null,
   "id": "adjustable-soviet",
   "metadata": {},
   "outputs": [],
   "source": []
  },
  {
   "cell_type": "markdown",
   "id": "soviet-medication",
   "metadata": {},
   "source": [
    "### ROC Curve"
   ]
  },
  {
   "cell_type": "code",
   "execution_count": 97,
   "id": "affiliated-teach",
   "metadata": {
    "ExecuteTime": {
     "end_time": "2021-05-13T19:23:59.702830Z",
     "start_time": "2021-05-13T19:23:59.186213Z"
    }
   },
   "outputs": [
    {
     "data": {
      "image/png": "[encoded data removed]",
      "text/plain": [
       "<Figure size 864x720 with 1 Axes>"
      ]
     },
     "metadata": {
      "image/png": {
       "height": 600,
       "width": 734
      }
     },
     "output_type": "display_data"
    }
   ],
   "source": [
    "plt.figure(figsize=(12, 10))\n",
    "plt.plot(fpr_sgd, tpr_sgd, \"b:\", linewidth=2, label=\"SGD\")\n",
    "plt.plot(fpr_ada, tpr_ada, \"r-\", linewidth=2, label=\"AdaBoost\")\n",
    "plt.plot(fpr_xgb, tpr_xgb, \"g-.\", linewidth=2, label=\"XGBoost\")\n",
    "plt.plot(fpr_mlp, tpr_mlp, \"r-.\", linewidth=2, label=\"MLP\")\n",
    "plt.plot(fpr_lr, tpr_lr, \"g:\", linewidth=2, label=\"Log_Reg 5:1\")\n",
    "plt.plot(fpr_knn, tpr_knn, \"c-.\", linewidth=2, label=\"KNN\")\n",
    "plt.plot(fpr_lgb, tpr_lgb, \"y-\", linewidth=2, label=\"LightGBM\")\n",
    "plt.plot(fpr_nb, tpr_nb, \"m-.\", linewidth=2, label=\"Naive Bayes\")\n",
    "plot_roc_curve(fpr_forest, tpr_forest, \"Random Forest\")\n",
    "\n",
    "plt.grid(True)\n",
    "plt.legend(loc=\"lower right\", fontsize=16)\n",
    "plt.savefig('roc_curve_comparison_plot.png')\n",
    "plt.show();"
   ]
  },
  {
   "cell_type": "code",
   "execution_count": null,
   "id": "derived-youth",
   "metadata": {},
   "outputs": [],
   "source": []
  },
  {
   "cell_type": "code",
   "execution_count": null,
   "id": "unexpected-telephone",
   "metadata": {},
   "outputs": [],
   "source": []
  },
  {
   "cell_type": "code",
   "execution_count": null,
   "id": "collect-account",
   "metadata": {},
   "outputs": [],
   "source": []
  },
  {
   "cell_type": "code",
   "execution_count": null,
   "id": "major-sleeve",
   "metadata": {},
   "outputs": [],
   "source": []
  }
 ],
 "metadata": {
  "kernelspec": {
   "display_name": "Python [conda env:metis] *",
   "language": "python",
   "name": "conda-env-metis-py"
  },
  "language_info": {
   "codemirror_mode": {
    "name": "ipython",
    "version": 3
   },
   "file_extension": ".py",
   "mimetype": "text/x-python",
   "name": "python",
   "nbconvert_exporter": "python",
   "pygments_lexer": "ipython3",
   "version": "3.8.8"
  },
  "toc": {
   "base_numbering": 1,
   "nav_menu": {},
   "number_sections": true,
   "sideBar": true,
   "skip_h1_title": false,
   "title_cell": "Table of Contents",
   "title_sidebar": "Contents",
   "toc_cell": false,
   "toc_position": {
    "height": "calc(100% - 180px)",
    "left": "10px",
    "top": "150px",
    "width": "225.273px"
   },
   "toc_section_display": true,
   "toc_window_display": true
  },
  "varInspector": {
   "cols": {
    "lenName": 16,
    "lenType": 16,
    "lenVar": 40
   },
   "kernels_config": {
    "python": {
     "delete_cmd_postfix": "",
     "delete_cmd_prefix": "del ",
     "library": "var_list.py",
     "varRefreshCmd": "print(var_dic_list())"
    },
    "r": {
     "delete_cmd_postfix": ") ",
     "delete_cmd_prefix": "rm(",
     "library": "var_list.r",
     "varRefreshCmd": "cat(var_dic_list()) "
    }
   },
   "types_to_exclude": [
    "module",
    "function",
    "builtin_function_or_method",
    "instance",
    "_Feature"
   ],
   "window_display": false
  }
 },
 "nbformat": 4,
 "nbformat_minor": 5
}
